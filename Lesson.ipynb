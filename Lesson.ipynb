{
 "cells": [
  {
   "cell_type": "markdown",
   "id": "ae46a534-3fb2-431b-9a2e-aced08023ac0",
   "metadata": {},
   "source": [
    "## Web APIs - The Alternative to Scraping"
   ]
  },
  {
   "cell_type": "markdown",
   "id": "2a5393a0-6934-4189-8d87-090f7feea125",
   "metadata": {},
   "source": [
    "Web scraping doesn't always work. Many modern websites are built in a way that makes it particularly hard to scrape. They may do one of the following:\n",
    "\n",
    "- Incorporate \"infinite scrolling\", so that the page that is loaded is not the same as the content you want to scrape\n",
    "- Block scraping through bot detection\n",
    "- Have a website sufficiently complex that scraping is too hard to implement\n",
    "\n",
    "Why would websites actively discourage or even make scraping impossible? For the most part, we can imagine websites as a storefront. The website is designed to provide some good or service in exchange for either money (through purchases) or in exchange for the consumption of advertisements or other forms of compensation. Although these \"storefronts\" are online, they are not costless. \n",
    "\n",
    "Every time a website is requested, the server must send that information to the person/computer/bot that has requested it. This might be very cheap for a single request, but these costs add up when hundreds, thousands, or even millions of requests must be processed. When we scrape a website, we are in essence trying to collect a good (data) without compensating the group who maintains the website. For this reason, many websites will seek to block web scraping whenever they detect it, and will include a statement to this effect in their terms of service.\n",
    "\n",
    "In cases where scraping is not feasible for one reason or another, we will need an alternative way to collect data. Web APIs will be our key to data collection in these situations.\n"
   ]
  },
  {
   "cell_type": "markdown",
   "id": "23fbaebd-86ae-4280-85d3-103a06e42686",
   "metadata": {},
   "source": [
    "## What are web APIs?\n",
    "\n",
    "The acronym **API** stands for **Application Programming Interface**, and is the name for the way in which a program or user may communicate with another program. Using an API enables the creation of explicit mechanisms for input and output of data.\n",
    "\n",
    "A **web API** is simply the API that allows users and programs to interact with a website or web service, so that we can automate or streamline online interactions. APIs are used for the following (and much more!):\n",
    "\n",
    "- 3rd party social media apps\n",
    "- Map interfaces on business websites\n",
    "- Data collection\n",
    "\n",
    "\n",
    "### Comparing APIs to Scraping\n",
    "\n",
    "When using a web API, our process is very different than when we scrape. As discussed earlier, scraping typically occurs at the expense of the service provider, making many websites averse to allowing scraping to take place. On the other hand, when using an API, there is an explicit agreement between the provider of data and the consumer. In many cases, APIs cost money to use, and are designed to compensate the service provider in a transaction reflecting the fact that the consumer no longer seeks to buy a good/service on the website or view advertisements. Instead, the data being transferred is the product to be consumed.\n",
    "\n",
    "While we will use a free and open API to learn during this class, bear in mind that many (if not most) APIs will require the user to register before making requests, and may also require payment. This arrangement allows both users and providers to benefit from the exchange of data.\n"
   ]
  },
  {
   "cell_type": "markdown",
   "id": "77c5c1ae-1764-4b51-bd36-5f5a3ce156cc",
   "metadata": {},
   "source": [
    "## Using a web API\n",
    "\n",
    "To learn about using web APIs, we will experiment with the free location API provided by [zippopotam.us](http://www.zippopotam.us/). We will learn the basics of API use with the simple examples that can be implemented through the Zippopotamus API, and hopefully make some fun graphs while we are at it!\n",
    "\n",
    "Most web APIs are accessed through the use of a URL, just like any other website. We then use the various extensions of the URL to make a request for an API call, rather than to request a specific website. Let's give this a try with the `requests` library, and see what we get back as we request various URLs from Zippopotamus:"
   ]
  },
  {
   "cell_type": "code",
   "execution_count": 1,
   "id": "46fe937a-474d-40e8-8a46-f63f73fa00dd",
   "metadata": {},
   "outputs": [
    {
     "data": {
      "text/plain": [
       "'{\"post code\": \"68022\", \"country\": \"United States\", \"country abbreviation\": \"US\", \"places\": [{\"place name\": \"Elkhorn\", \"longitude\": \"-96.2431\", \"state\": \"Nebraska\", \"state abbreviation\": \"NE\", \"latitude\": \"41.2756\"}]}'"
      ]
     },
     "execution_count": 1,
     "metadata": {},
     "output_type": "execute_result"
    }
   ],
   "source": [
    "import requests\n",
    "\n",
    "requests.get(\"https://api.zippopotam.us/us/68022\").text"
   ]
  },
  {
   "cell_type": "markdown",
   "id": "107b08c6-3ae5-4cfb-98aa-e253d5068529",
   "metadata": {},
   "source": [
    "    '{\"post code\": \"68022\", \"country\": \"United States\", \"country abbreviation\": \"US\", \"places\": [{\"place name\": \"Elkhorn\", \"longitude\": \"-96.2431\", \"state\": \"Nebraska\", \"state abbreviation\": \"NE\", \"latitude\": \"41.2756\"}]}'"
   ]
  },
  {
   "cell_type": "markdown",
   "id": "bdb7f50b-427c-42b5-a43e-566b2cc0823b",
   "metadata": {},
   "source": [
    "Cool! We got some random stuff when we requested a random page from Zippopotamus... What is this? Let's break down our URL to learn more about what is going on:\n",
    "\n",
    " - `https://api.zippopotam.us` is the URL that we will always call when making requests to or from Zippopotamus\n",
    " - `/us` tells Zippopotamus that the location we are referencing is in the United States\n",
    " - `/68022` is the postal code for which we want to extract information from Zippopotamus\n",
    " \n",
    "The data that we receive back from our request is information about the postal code that we want to examine. Before we start learning how to work with our results, let's try another API call:"
   ]
  },
  {
   "cell_type": "markdown",
   "id": "04922d3f-5031-4014-8d45-c5890a32fc14",
   "metadata": {},
   "source": [
    "requests.get(\"https://api.zippopotam.us/us/wa/redmond\").text"
   ]
  },
  {
   "cell_type": "markdown",
   "id": "d01a5dfa-49ee-4835-a3d6-c5e5992a7139",
   "metadata": {},
   "source": [
    "    '{\"country abbreviation\": \"US\", \"places\": [{\"place name\": \"Redmond\", \"longitude\": \"-122.1232\", \"post code\": \"98052\", \"latitude\": \"47.6718\"}, {\"place name\": \"Redmond\", \"longitude\": \"-122.0386\", \"post code\": \"98053\", \"latitude\": \"47.6462\"}, {\"place name\": \"Redmond\", \"longitude\": \"-121.8034\", \"post code\": \"98073\", \"latitude\": \"47.4323\"}], \"country\": \"United States\", \"place name\": \"Redmond\", \"state\": \"Washington\", \"state abbreviation\": \"WA\"}'\n",
    "\n",
    "\n",
    "\n",
    "In this new request, we have the following:\n",
    "\n",
    "- `https://api.zippopotam.us` is the URL that we will always call when making requests to or from Zippopotamus\n",
    "- `/us` tells Zippopotamus that the location we are referencing is in the United States\n",
    "- `/wa` tells Zippopotamus that the location is in Washington state\n",
    "- `/redmond` is the city for which we would like to extract information\n",
    "\n",
    "As might be evident from the differences between the two requests we have made, many APIs are able to access different kinds of information depending on the different requests that we make. We can find information on the city in which a postal code is located, or we can find postal codes within a city of interest! This will allow us to make requests that will generate a map of places that I have lived during my life. Let's try it out."
   ]
  },
  {
   "cell_type": "code",
   "execution_count": 2,
   "id": "03c15d92-7c94-4b38-9ee8-5e595353086f",
   "metadata": {},
   "outputs": [],
   "source": [
    "livedThere = [\n",
    "    {\"country\": \"/us\", \"postal_code\": \"/92056\"},\n",
    "    {\"country\": \"/us\", \"postal_code\": \"/98052\"},\n",
    "    {\"country\": \"/us\", \"postal_code\": \"/84602\"},\n",
    "    {\"country\": \"/br\", \"postal_code\": \"/96225-000\"},\n",
    "    {\"country\": \"/br\", \"postal_code\": \"/96600-000\"},\n",
    "    {\"country\": \"/us\", \"postal_code\": \"/99163\"},\n",
    "    {\"country\": \"/us\", \"postal_code\": \"/68022\"},\n",
    "    {\"country\": \"/us\", \"postal_code\": \"/84102\"},\n",
    "]"
   ]
  },
  {
   "cell_type": "markdown",
   "id": "986d91f3-cd63-4dcc-acdb-b0656a169619",
   "metadata": {},
   "source": [
    "The cell above contains a list of dictionaries. I will iterate over this list to create my API calls:"
   ]
  },
  {
   "cell_type": "code",
   "execution_count": 3,
   "id": "8df503a9-dbad-43c2-ba76-b39fb64ec383",
   "metadata": {},
   "outputs": [
    {
     "name": "stdout",
     "output_type": "stream",
     "text": [
      "https://api.zippopotam.us/us/92056\n",
      "https://api.zippopotam.us/us/98052\n",
      "https://api.zippopotam.us/us/84602\n",
      "https://api.zippopotam.us/br/96225-000\n",
      "https://api.zippopotam.us/br/96600-000\n",
      "https://api.zippopotam.us/us/99163\n",
      "https://api.zippopotam.us/us/68022\n",
      "https://api.zippopotam.us/us/84102\n"
     ]
    }
   ],
   "source": [
    "for i in livedThere:\n",
    "    call = \"https://api.zippopotam.us{0}{1}\".format(i[\"country\"],i[\"postal_code\"])\n",
    "    print(call)"
   ]
  },
  {
   "cell_type": "markdown",
   "id": "054691ba-437e-443e-8b06-a123b9bfb9dd",
   "metadata": {},
   "source": [
    "    https://api.zippopotam.us/us/92056\n",
    "    https://api.zippopotam.us/us/98052\n",
    "    https://api.zippopotam.us/us/84602\n",
    "    https://api.zippopotam.us/br/96225-000\n",
    "    https://api.zippopotam.us/br/96600-000\n",
    "    https://api.zippopotam.us/us/99163\n",
    "    https://api.zippopotam.us/us/68022\n",
    "    https://api.zippopotam.us/us/84102\n",
    "\n",
    "\n",
    "The above code combines my country codes for each location with the postal code and the base-URL to provide my API call. Now it is time to write some code to retrieve each request and store the results in a new list:"
   ]
  },
  {
   "cell_type": "code",
   "execution_count": 4,
   "id": "da4d6a90-afef-45a0-b031-1f69a75c24f5",
   "metadata": {},
   "outputs": [
    {
     "data": {
      "text/plain": [
       "['{\"post code\": \"92056\", \"country\": \"United States\", \"country abbreviation\": \"US\", \"places\": [{\"place name\": \"Oceanside\", \"longitude\": \"-117.2831\", \"state\": \"California\", \"state abbreviation\": \"CA\", \"latitude\": \"33.1968\"}]}',\n",
       " '{\"post code\": \"98052\", \"country\": \"United States\", \"country abbreviation\": \"US\", \"places\": [{\"place name\": \"Redmond\", \"longitude\": \"-122.1232\", \"state\": \"Washington\", \"state abbreviation\": \"WA\", \"latitude\": \"47.6718\"}]}',\n",
       " '{\"post code\": \"84602\", \"country\": \"United States\", \"country abbreviation\": \"US\", \"places\": [{\"place name\": \"Provo\", \"longitude\": \"-111.7325\", \"state\": \"Utah\", \"state abbreviation\": \"UT\", \"latitude\": \"40.3563\"}]}',\n",
       " '{\"post code\": \"96225-000\", \"country\": \"Brazil\", \"country abbreviation\": \"BR\", \"places\": [{\"place name\": \"S\\\\u00e3o Jos\\\\u00e9 do Norte\", \"longitude\": \"-51.762\", \"state\": \"Rio Grande do Sul\", \"state abbreviation\": \"23\", \"latitude\": \"-31.8009\"}]}',\n",
       " '{\"post code\": \"96600-000\", \"country\": \"Brazil\", \"country abbreviation\": \"BR\", \"places\": [{\"place name\": \"Cangu\\\\u00e7u\", \"longitude\": \"-52.6682\", \"state\": \"Rio Grande do Sul\", \"state abbreviation\": \"23\", \"latitude\": \"-31.2117\"}]}',\n",
       " '{\"post code\": \"99163\", \"country\": \"United States\", \"country abbreviation\": \"US\", \"places\": [{\"place name\": \"Pullman\", \"longitude\": \"-117.1729\", \"state\": \"Washington\", \"state abbreviation\": \"WA\", \"latitude\": \"46.7352\"}]}',\n",
       " '{\"post code\": \"68022\", \"country\": \"United States\", \"country abbreviation\": \"US\", \"places\": [{\"place name\": \"Elkhorn\", \"longitude\": \"-96.2431\", \"state\": \"Nebraska\", \"state abbreviation\": \"NE\", \"latitude\": \"41.2756\"}]}',\n",
       " '{\"post code\": \"84102\", \"country\": \"United States\", \"country abbreviation\": \"US\", \"places\": [{\"place name\": \"Salt Lake City\", \"longitude\": \"-111.8627\", \"state\": \"Utah\", \"state abbreviation\": \"UT\", \"latitude\": \"40.76\"}]}']"
      ]
     },
     "execution_count": 4,
     "metadata": {},
     "output_type": "execute_result"
    }
   ],
   "source": [
    "locales = []\n",
    "\n",
    "for i in livedThere:\n",
    "    call = \"https://api.zippopotam.us{0}{1}\".format(i[\"country\"],i[\"postal_code\"])\n",
    "    locales.append(requests.get(call).text)\n",
    "    \n",
    "locales"
   ]
  },
  {
   "cell_type": "markdown",
   "id": "41cf6d1b-5b6b-4ed2-bc43-abc4a516e10b",
   "metadata": {},
   "source": [
    "    ['{\"post code\": \"92056\", \"country\": \"United States\", \"country abbreviation\": \"US\", \"places\": [{\"place name\": \"Oceanside\", \"longitude\": \"-117.2831\", \"state\": \"California\", \"state abbreviation\": \"CA\", \"latitude\": \"33.1968\"}]}',\n",
    "     '{\"post code\": \"98052\", \"country\": \"United States\", \"country abbreviation\": \"US\", \"places\": [{\"place name\": \"Redmond\", \"longitude\": \"-122.1232\", \"state\": \"Washington\", \"state abbreviation\": \"WA\", \"latitude\": \"47.6718\"}]}',\n",
    "     '{\"post code\": \"84602\", \"country\": \"United States\", \"country abbreviation\": \"US\", \"places\": [{\"place name\": \"Provo\", \"longitude\": \"-111.7325\", \"state\": \"Utah\", \"state abbreviation\": \"UT\", \"latitude\": \"40.3563\"}]}',\n",
    "     '{\"post code\": \"96225-000\", \"country\": \"Brazil\", \"country abbreviation\": \"BR\", \"places\": [{\"place name\": \"S\\\\u00e3o Jos\\\\u00e9 do Norte\", \"longitude\": \"-51.762\", \"state\": \"Rio Grande do Sul\", \"state abbreviation\": \"23\", \"latitude\": \"-31.8009\"}]}',\n",
    "     '{\"post code\": \"96600-000\", \"country\": \"Brazil\", \"country abbreviation\": \"BR\", \"places\": [{\"place name\": \"Cangu\\\\u00e7u\", \"longitude\": \"-52.6682\", \"state\": \"Rio Grande do Sul\", \"state abbreviation\": \"23\", \"latitude\": \"-31.2117\"}]}',\n",
    "     '{\"post code\": \"99163\", \"country\": \"United States\", \"country abbreviation\": \"US\", \"places\": [{\"place name\": \"Pullman\", \"longitude\": \"-117.1729\", \"state\": \"Washington\", \"state abbreviation\": \"WA\", \"latitude\": \"46.7352\"}]}',\n",
    "     '{\"post code\": \"68022\", \"country\": \"United States\", \"country abbreviation\": \"US\", \"places\": [{\"place name\": \"Elkhorn\", \"longitude\": \"-96.2431\", \"state\": \"Nebraska\", \"state abbreviation\": \"NE\", \"latitude\": \"41.2756\"}]}',\n",
    "     '{\"post code\": \"84102\", \"country\": \"United States\", \"country abbreviation\": \"US\", \"places\": [{\"place name\": \"Salt Lake City\", \"longitude\": \"-111.8627\", \"state\": \"Utah\", \"state abbreviation\": \"UT\", \"latitude\": \"40.76\"}]}']\n",
    "\n",
    "\n",
    "\n",
    "Awesome! We have the results! Except, they are really garbled....now we need to take these results and clean them up into a useable format. Let's figure out how."
   ]
  },
  {
   "cell_type": "markdown",
   "id": "aedce013-e281-4f9d-8166-c2f4de568f13",
   "metadata": {},
   "source": [
    "## Processing `requests` results\n",
    "\n",
    "Each response from a web API will typically be returned in a **JSON** object. **JSON** stands for **Java Script Object Notation**, and is the standard format for transmitting information on the internet. While this may sound confusing, JSON is actually very easy for us to handle in Python, because it is structured EXACTLY like a Python dictionary. All we need is a way to take a JSON object and translate it into an official `dict` object.\n",
    "\n",
    "Lucky for us, the `json` library (built right into Python itself!) will make this an easy exercise."
   ]
  },
  {
   "cell_type": "code",
   "execution_count": 5,
   "id": "203ef0b1-794d-49f5-9638-b0add95b9f00",
   "metadata": {},
   "outputs": [
    {
     "data": {
      "text/plain": [
       "[{'post code': '92056',\n",
       "  'country': 'United States',\n",
       "  'country abbreviation': 'US',\n",
       "  'places': [{'place name': 'Oceanside',\n",
       "    'longitude': '-117.2831',\n",
       "    'state': 'California',\n",
       "    'state abbreviation': 'CA',\n",
       "    'latitude': '33.1968'}]},\n",
       " {'post code': '98052',\n",
       "  'country': 'United States',\n",
       "  'country abbreviation': 'US',\n",
       "  'places': [{'place name': 'Redmond',\n",
       "    'longitude': '-122.1232',\n",
       "    'state': 'Washington',\n",
       "    'state abbreviation': 'WA',\n",
       "    'latitude': '47.6718'}]},\n",
       " {'post code': '84602',\n",
       "  'country': 'United States',\n",
       "  'country abbreviation': 'US',\n",
       "  'places': [{'place name': 'Provo',\n",
       "    'longitude': '-111.7325',\n",
       "    'state': 'Utah',\n",
       "    'state abbreviation': 'UT',\n",
       "    'latitude': '40.3563'}]},\n",
       " {'post code': '96225-000',\n",
       "  'country': 'Brazil',\n",
       "  'country abbreviation': 'BR',\n",
       "  'places': [{'place name': 'São José do Norte',\n",
       "    'longitude': '-51.762',\n",
       "    'state': 'Rio Grande do Sul',\n",
       "    'state abbreviation': '23',\n",
       "    'latitude': '-31.8009'}]},\n",
       " {'post code': '96600-000',\n",
       "  'country': 'Brazil',\n",
       "  'country abbreviation': 'BR',\n",
       "  'places': [{'place name': 'Canguçu',\n",
       "    'longitude': '-52.6682',\n",
       "    'state': 'Rio Grande do Sul',\n",
       "    'state abbreviation': '23',\n",
       "    'latitude': '-31.2117'}]},\n",
       " {'post code': '99163',\n",
       "  'country': 'United States',\n",
       "  'country abbreviation': 'US',\n",
       "  'places': [{'place name': 'Pullman',\n",
       "    'longitude': '-117.1729',\n",
       "    'state': 'Washington',\n",
       "    'state abbreviation': 'WA',\n",
       "    'latitude': '46.7352'}]},\n",
       " {'post code': '68022',\n",
       "  'country': 'United States',\n",
       "  'country abbreviation': 'US',\n",
       "  'places': [{'place name': 'Elkhorn',\n",
       "    'longitude': '-96.2431',\n",
       "    'state': 'Nebraska',\n",
       "    'state abbreviation': 'NE',\n",
       "    'latitude': '41.2756'}]},\n",
       " {'post code': '84102',\n",
       "  'country': 'United States',\n",
       "  'country abbreviation': 'US',\n",
       "  'places': [{'place name': 'Salt Lake City',\n",
       "    'longitude': '-111.8627',\n",
       "    'state': 'Utah',\n",
       "    'state abbreviation': 'UT',\n",
       "    'latitude': '40.76'}]}]"
      ]
     },
     "execution_count": 5,
     "metadata": {},
     "output_type": "execute_result"
    }
   ],
   "source": [
    "import json\n",
    "\n",
    "locales = [json.loads(i) for i in locales]\n",
    "\n",
    "locales"
   ]
  },
  {
   "cell_type": "markdown",
   "id": "64c1b15a-db6e-47e7-abbd-da78c543aa7f",
   "metadata": {},
   "source": [
    "    [{'post code': '92056',\n",
    "      'country': 'United States',\n",
    "      'country abbreviation': 'US',\n",
    "      'places': [{'place name': 'Oceanside',\n",
    "        'longitude': '-117.2831',\n",
    "        'state': 'California',\n",
    "        'state abbreviation': 'CA',\n",
    "        'latitude': '33.1968'}]},\n",
    "     {'post code': '98052',\n",
    "      'country': 'United States',\n",
    "      'country abbreviation': 'US',\n",
    "      'places': [{'place name': 'Redmond',\n",
    "        'longitude': '-122.1232',\n",
    "        'state': 'Washington',\n",
    "        'state abbreviation': 'WA',\n",
    "        'latitude': '47.6718'}]},\n",
    "     {'post code': '84602',\n",
    "      'country': 'United States',\n",
    "      'country abbreviation': 'US',\n",
    "      'places': [{'place name': 'Provo',\n",
    "        'longitude': '-111.7325',\n",
    "        'state': 'Utah',\n",
    "        'state abbreviation': 'UT',\n",
    "        'latitude': '40.3563'}]},\n",
    "     {'post code': '96225-000',\n",
    "      'country': 'Brazil',\n",
    "      'country abbreviation': 'BR',\n",
    "      'places': [{'place name': 'São José do Norte',\n",
    "        'longitude': '-51.762',\n",
    "        'state': 'Rio Grande do Sul',\n",
    "        'state abbreviation': '23',\n",
    "        'latitude': '-31.8009'}]},\n",
    "     {'post code': '96600-000',\n",
    "      'country': 'Brazil',\n",
    "      'country abbreviation': 'BR',\n",
    "      'places': [{'place name': 'Canguçu',\n",
    "        'longitude': '-52.6682',\n",
    "        'state': 'Rio Grande do Sul',\n",
    "        'state abbreviation': '23',\n",
    "        'latitude': '-31.2117'}]},\n",
    "     {'post code': '99163',\n",
    "      'country': 'United States',\n",
    "      'country abbreviation': 'US',\n",
    "      'places': [{'place name': 'Pullman',\n",
    "        'longitude': '-117.1729',\n",
    "        'state': 'Washington',\n",
    "        'state abbreviation': 'WA',\n",
    "        'latitude': '46.7352'}]},\n",
    "     {'post code': '68022',\n",
    "      'country': 'United States',\n",
    "      'country abbreviation': 'US',\n",
    "      'places': [{'place name': 'Elkhorn',\n",
    "        'longitude': '-96.2431',\n",
    "        'state': 'Nebraska',\n",
    "        'state abbreviation': 'NE',\n",
    "        'latitude': '41.2756'}]},\n",
    "     {'post code': '84102',\n",
    "      'country': 'United States',\n",
    "      'country abbreviation': 'US',\n",
    "      'places': [{'place name': 'Salt Lake City',\n",
    "        'longitude': '-111.8627',\n",
    "        'state': 'Utah',\n",
    "        'state abbreviation': 'UT',\n",
    "        'latitude': '40.76'}]}]\n",
    "\n",
    "\n",
    "\n",
    "And we are done making our data into Python data! That was easy! Next, let's just take this list of dictionaries, and make it into a Data Frame. It turns out that we can write a little bit of code to make Data Frames out of our API results through `pandas`:"
   ]
  },
  {
   "cell_type": "code",
   "execution_count": 6,
   "id": "760cbf52-b40e-4ef9-84bd-c962495b2347",
   "metadata": {},
   "outputs": [
    {
     "data": {
      "text/html": [
       "<div>\n",
       "<style scoped>\n",
       "    .dataframe tbody tr th:only-of-type {\n",
       "        vertical-align: middle;\n",
       "    }\n",
       "\n",
       "    .dataframe tbody tr th {\n",
       "        vertical-align: top;\n",
       "    }\n",
       "\n",
       "    .dataframe thead th {\n",
       "        text-align: right;\n",
       "    }\n",
       "</style>\n",
       "<table border=\"1\" class=\"dataframe\">\n",
       "  <thead>\n",
       "    <tr style=\"text-align: right;\">\n",
       "      <th></th>\n",
       "      <th>place name</th>\n",
       "      <th>longitude</th>\n",
       "      <th>state</th>\n",
       "      <th>state abbreviation</th>\n",
       "      <th>latitude</th>\n",
       "      <th>post_code</th>\n",
       "      <th>country</th>\n",
       "      <th>country_code</th>\n",
       "    </tr>\n",
       "  </thead>\n",
       "  <tbody>\n",
       "    <tr>\n",
       "      <th>0</th>\n",
       "      <td>Oceanside</td>\n",
       "      <td>-117.2831</td>\n",
       "      <td>California</td>\n",
       "      <td>CA</td>\n",
       "      <td>33.1968</td>\n",
       "      <td>92056</td>\n",
       "      <td>United States</td>\n",
       "      <td>US</td>\n",
       "    </tr>\n",
       "    <tr>\n",
       "      <th>1</th>\n",
       "      <td>Redmond</td>\n",
       "      <td>-122.1232</td>\n",
       "      <td>Washington</td>\n",
       "      <td>WA</td>\n",
       "      <td>47.6718</td>\n",
       "      <td>98052</td>\n",
       "      <td>United States</td>\n",
       "      <td>US</td>\n",
       "    </tr>\n",
       "    <tr>\n",
       "      <th>2</th>\n",
       "      <td>Provo</td>\n",
       "      <td>-111.7325</td>\n",
       "      <td>Utah</td>\n",
       "      <td>UT</td>\n",
       "      <td>40.3563</td>\n",
       "      <td>84602</td>\n",
       "      <td>United States</td>\n",
       "      <td>US</td>\n",
       "    </tr>\n",
       "    <tr>\n",
       "      <th>3</th>\n",
       "      <td>São José do Norte</td>\n",
       "      <td>-51.762</td>\n",
       "      <td>Rio Grande do Sul</td>\n",
       "      <td>23</td>\n",
       "      <td>-31.8009</td>\n",
       "      <td>96225-000</td>\n",
       "      <td>Brazil</td>\n",
       "      <td>BR</td>\n",
       "    </tr>\n",
       "    <tr>\n",
       "      <th>4</th>\n",
       "      <td>Canguçu</td>\n",
       "      <td>-52.6682</td>\n",
       "      <td>Rio Grande do Sul</td>\n",
       "      <td>23</td>\n",
       "      <td>-31.2117</td>\n",
       "      <td>96600-000</td>\n",
       "      <td>Brazil</td>\n",
       "      <td>BR</td>\n",
       "    </tr>\n",
       "    <tr>\n",
       "      <th>5</th>\n",
       "      <td>Pullman</td>\n",
       "      <td>-117.1729</td>\n",
       "      <td>Washington</td>\n",
       "      <td>WA</td>\n",
       "      <td>46.7352</td>\n",
       "      <td>99163</td>\n",
       "      <td>United States</td>\n",
       "      <td>US</td>\n",
       "    </tr>\n",
       "    <tr>\n",
       "      <th>6</th>\n",
       "      <td>Elkhorn</td>\n",
       "      <td>-96.2431</td>\n",
       "      <td>Nebraska</td>\n",
       "      <td>NE</td>\n",
       "      <td>41.2756</td>\n",
       "      <td>68022</td>\n",
       "      <td>United States</td>\n",
       "      <td>US</td>\n",
       "    </tr>\n",
       "    <tr>\n",
       "      <th>7</th>\n",
       "      <td>Salt Lake City</td>\n",
       "      <td>-111.8627</td>\n",
       "      <td>Utah</td>\n",
       "      <td>UT</td>\n",
       "      <td>40.76</td>\n",
       "      <td>84102</td>\n",
       "      <td>United States</td>\n",
       "      <td>US</td>\n",
       "    </tr>\n",
       "  </tbody>\n",
       "</table>\n",
       "</div>"
      ],
      "text/plain": [
       "          place name  longitude              state state abbreviation  \\\n",
       "0          Oceanside  -117.2831         California                 CA   \n",
       "1            Redmond  -122.1232         Washington                 WA   \n",
       "2              Provo  -111.7325               Utah                 UT   \n",
       "3  São José do Norte    -51.762  Rio Grande do Sul                 23   \n",
       "4            Canguçu   -52.6682  Rio Grande do Sul                 23   \n",
       "5            Pullman  -117.1729         Washington                 WA   \n",
       "6            Elkhorn   -96.2431           Nebraska                 NE   \n",
       "7     Salt Lake City  -111.8627               Utah                 UT   \n",
       "\n",
       "   latitude  post_code        country country_code  \n",
       "0   33.1968      92056  United States           US  \n",
       "1   47.6718      98052  United States           US  \n",
       "2   40.3563      84602  United States           US  \n",
       "3  -31.8009  96225-000         Brazil           BR  \n",
       "4  -31.2117  96600-000         Brazil           BR  \n",
       "5   46.7352      99163  United States           US  \n",
       "6   41.2756      68022  United States           US  \n",
       "7     40.76      84102  United States           US  "
      ]
     },
     "execution_count": 6,
     "metadata": {},
     "output_type": "execute_result"
    }
   ],
   "source": [
    "import pandas as pd\n",
    "\n",
    "locales = pd.DataFrame(locales)\n",
    "\n",
    "data = []\n",
    "for i in locales.index:\n",
    "    temp = pd.DataFrame(locales.loc[i, 'places'])\n",
    "    temp['post_code'] = locales.loc[i, 'post code']\n",
    "    temp['country'] = locales.loc[i, 'country']\n",
    "    temp['country_code'] = locales.loc[i, 'country abbreviation']\n",
    "    data.append(temp)\n",
    "    \n",
    "data = pd.concat(data, axis=0).reset_index(drop=True)\n",
    "\n",
    "data"
   ]
  },
  {
   "cell_type": "markdown",
   "id": "db9476f8-83df-44b1-ab91-7b9abea70544",
   "metadata": {},
   "source": [
    "<div>\n",
    "<style scoped>\n",
    "    .dataframe tbody tr th:only-of-type {\n",
    "        vertical-align: middle;\n",
    "    }\n",
    "\n",
    "    .dataframe tbody tr th {\n",
    "        vertical-align: top;\n",
    "    }\n",
    "\n",
    "    .dataframe thead th {\n",
    "        text-align: right;\n",
    "    }\n",
    "</style>\n",
    "<table border=\"1\" class=\"dataframe\">\n",
    "  <thead>\n",
    "    <tr style=\"text-align: right;\">\n",
    "      <th></th>\n",
    "      <th>place name</th>\n",
    "      <th>longitude</th>\n",
    "      <th>state</th>\n",
    "      <th>state abbreviation</th>\n",
    "      <th>latitude</th>\n",
    "      <th>post_code</th>\n",
    "      <th>country</th>\n",
    "      <th>country_code</th>\n",
    "    </tr>\n",
    "  </thead>\n",
    "  <tbody>\n",
    "    <tr>\n",
    "      <th>0</th>\n",
    "      <td>Oceanside</td>\n",
    "      <td>-117.2831</td>\n",
    "      <td>California</td>\n",
    "      <td>CA</td>\n",
    "      <td>33.1968</td>\n",
    "      <td>92056</td>\n",
    "      <td>United States</td>\n",
    "      <td>US</td>\n",
    "    </tr>\n",
    "    <tr>\n",
    "      <th>1</th>\n",
    "      <td>Redmond</td>\n",
    "      <td>-122.1232</td>\n",
    "      <td>Washington</td>\n",
    "      <td>WA</td>\n",
    "      <td>47.6718</td>\n",
    "      <td>98052</td>\n",
    "      <td>United States</td>\n",
    "      <td>US</td>\n",
    "    </tr>\n",
    "    <tr>\n",
    "      <th>2</th>\n",
    "      <td>Provo</td>\n",
    "      <td>-111.7325</td>\n",
    "      <td>Utah</td>\n",
    "      <td>UT</td>\n",
    "      <td>40.3563</td>\n",
    "      <td>84602</td>\n",
    "      <td>United States</td>\n",
    "      <td>US</td>\n",
    "    </tr>\n",
    "    <tr>\n",
    "      <th>3</th>\n",
    "      <td>São José do Norte</td>\n",
    "      <td>-51.762</td>\n",
    "      <td>Rio Grande do Sul</td>\n",
    "      <td>23</td>\n",
    "      <td>-31.8009</td>\n",
    "      <td>96225-000</td>\n",
    "      <td>Brazil</td>\n",
    "      <td>BR</td>\n",
    "    </tr>\n",
    "    <tr>\n",
    "      <th>4</th>\n",
    "      <td>Canguçu</td>\n",
    "      <td>-52.6682</td>\n",
    "      <td>Rio Grande do Sul</td>\n",
    "      <td>23</td>\n",
    "      <td>-31.2117</td>\n",
    "      <td>96600-000</td>\n",
    "      <td>Brazil</td>\n",
    "      <td>BR</td>\n",
    "    </tr>\n",
    "    <tr>\n",
    "      <th>5</th>\n",
    "      <td>Pullman</td>\n",
    "      <td>-117.1729</td>\n",
    "      <td>Washington</td>\n",
    "      <td>WA</td>\n",
    "      <td>46.7352</td>\n",
    "      <td>99163</td>\n",
    "      <td>United States</td>\n",
    "      <td>US</td>\n",
    "    </tr>\n",
    "    <tr>\n",
    "      <th>6</th>\n",
    "      <td>Elkhorn</td>\n",
    "      <td>-96.2431</td>\n",
    "      <td>Nebraska</td>\n",
    "      <td>NE</td>\n",
    "      <td>41.2756</td>\n",
    "      <td>68022</td>\n",
    "      <td>United States</td>\n",
    "      <td>US</td>\n",
    "    </tr>\n",
    "    <tr>\n",
    "      <th>7</th>\n",
    "      <td>Salt Lake City</td>\n",
    "      <td>-111.8627</td>\n",
    "      <td>Utah</td>\n",
    "      <td>UT</td>\n",
    "      <td>40.76</td>\n",
    "      <td>84102</td>\n",
    "      <td>United States</td>\n",
    "      <td>US</td>\n",
    "    </tr>\n",
    "  </tbody>\n",
    "</table>\n",
    "</div>\n",
    "\n",
    "\n",
    "\n",
    "Now that we have a nice, clean Data Frame containing the information on different locations, we can make a map out of it (we will cover mapping later in this course):"
   ]
  },
  {
   "cell_type": "code",
   "execution_count": 13,
   "id": "1027c7a1-d70f-4477-845c-75f637a746bf",
   "metadata": {},
   "outputs": [
    {
     "data": {
      "application/vnd.plotly.v1+json": {
       "config": {
        "plotlyServerURL": "https://plot.ly"
       },
       "data": [
        {
         "customdata": [
          [
           "Oceanside",
           "California",
           "United States"
          ],
          [
           "Redmond",
           "Washington",
           "United States"
          ],
          [
           "Provo",
           "Utah",
           "United States"
          ],
          [
           "Pullman",
           "Washington",
           "United States"
          ],
          [
           "Elkhorn",
           "Nebraska",
           "United States"
          ],
          [
           "Salt Lake City",
           "Utah",
           "United States"
          ]
         ],
         "geo": "geo",
         "hovertemplate": "country=%{customdata[2]}<br>latitude=%{lat}<br>longitude=%{lon}<br>place name=%{customdata[0]}<br>state=%{customdata[1]}<extra></extra>",
         "lat": [
          "33.1968",
          "47.6718",
          "40.3563",
          "46.7352",
          "41.2756",
          "40.76"
         ],
         "legendgroup": "United States",
         "lon": [
          "-117.2831",
          "-122.1232",
          "-111.7325",
          "-117.1729",
          "-96.2431",
          "-111.8627"
         ],
         "marker": {
          "color": "#636efa",
          "symbol": "circle"
         },
         "mode": "markers",
         "name": "United States",
         "showlegend": true,
         "type": "scattergeo"
        },
        {
         "customdata": [
          [
           "São José do Norte",
           "Rio Grande do Sul",
           "Brazil"
          ],
          [
           "Canguçu",
           "Rio Grande do Sul",
           "Brazil"
          ]
         ],
         "geo": "geo",
         "hovertemplate": "country=%{customdata[2]}<br>latitude=%{lat}<br>longitude=%{lon}<br>place name=%{customdata[0]}<br>state=%{customdata[1]}<extra></extra>",
         "lat": [
          "-31.8009",
          "-31.2117"
         ],
         "legendgroup": "Brazil",
         "lon": [
          "-51.762",
          "-52.6682"
         ],
         "marker": {
          "color": "#EF553B",
          "symbol": "circle"
         },
         "mode": "markers",
         "name": "Brazil",
         "showlegend": true,
         "type": "scattergeo"
        }
       ],
       "layout": {
        "geo": {
         "center": {},
         "domain": {
          "x": [
           0,
           1
          ],
          "y": [
           0,
           1
          ]
         },
         "projection": {
          "type": "natural earth"
         }
        },
        "height": 600,
        "legend": {
         "title": {
          "text": "country"
         },
         "tracegroupgap": 0
        },
        "margin": {
         "t": 60
        },
        "template": {
         "data": {
          "bar": [
           {
            "error_x": {
             "color": "#2a3f5f"
            },
            "error_y": {
             "color": "#2a3f5f"
            },
            "marker": {
             "line": {
              "color": "#E5ECF6",
              "width": 0.5
             },
             "pattern": {
              "fillmode": "overlay",
              "size": 10,
              "solidity": 0.2
             }
            },
            "type": "bar"
           }
          ],
          "barpolar": [
           {
            "marker": {
             "line": {
              "color": "#E5ECF6",
              "width": 0.5
             },
             "pattern": {
              "fillmode": "overlay",
              "size": 10,
              "solidity": 0.2
             }
            },
            "type": "barpolar"
           }
          ],
          "carpet": [
           {
            "aaxis": {
             "endlinecolor": "#2a3f5f",
             "gridcolor": "white",
             "linecolor": "white",
             "minorgridcolor": "white",
             "startlinecolor": "#2a3f5f"
            },
            "baxis": {
             "endlinecolor": "#2a3f5f",
             "gridcolor": "white",
             "linecolor": "white",
             "minorgridcolor": "white",
             "startlinecolor": "#2a3f5f"
            },
            "type": "carpet"
           }
          ],
          "choropleth": [
           {
            "colorbar": {
             "outlinewidth": 0,
             "ticks": ""
            },
            "type": "choropleth"
           }
          ],
          "contour": [
           {
            "colorbar": {
             "outlinewidth": 0,
             "ticks": ""
            },
            "colorscale": [
             [
              0,
              "#0d0887"
             ],
             [
              0.1111111111111111,
              "#46039f"
             ],
             [
              0.2222222222222222,
              "#7201a8"
             ],
             [
              0.3333333333333333,
              "#9c179e"
             ],
             [
              0.4444444444444444,
              "#bd3786"
             ],
             [
              0.5555555555555556,
              "#d8576b"
             ],
             [
              0.6666666666666666,
              "#ed7953"
             ],
             [
              0.7777777777777778,
              "#fb9f3a"
             ],
             [
              0.8888888888888888,
              "#fdca26"
             ],
             [
              1,
              "#f0f921"
             ]
            ],
            "type": "contour"
           }
          ],
          "contourcarpet": [
           {
            "colorbar": {
             "outlinewidth": 0,
             "ticks": ""
            },
            "type": "contourcarpet"
           }
          ],
          "heatmap": [
           {
            "colorbar": {
             "outlinewidth": 0,
             "ticks": ""
            },
            "colorscale": [
             [
              0,
              "#0d0887"
             ],
             [
              0.1111111111111111,
              "#46039f"
             ],
             [
              0.2222222222222222,
              "#7201a8"
             ],
             [
              0.3333333333333333,
              "#9c179e"
             ],
             [
              0.4444444444444444,
              "#bd3786"
             ],
             [
              0.5555555555555556,
              "#d8576b"
             ],
             [
              0.6666666666666666,
              "#ed7953"
             ],
             [
              0.7777777777777778,
              "#fb9f3a"
             ],
             [
              0.8888888888888888,
              "#fdca26"
             ],
             [
              1,
              "#f0f921"
             ]
            ],
            "type": "heatmap"
           }
          ],
          "heatmapgl": [
           {
            "colorbar": {
             "outlinewidth": 0,
             "ticks": ""
            },
            "colorscale": [
             [
              0,
              "#0d0887"
             ],
             [
              0.1111111111111111,
              "#46039f"
             ],
             [
              0.2222222222222222,
              "#7201a8"
             ],
             [
              0.3333333333333333,
              "#9c179e"
             ],
             [
              0.4444444444444444,
              "#bd3786"
             ],
             [
              0.5555555555555556,
              "#d8576b"
             ],
             [
              0.6666666666666666,
              "#ed7953"
             ],
             [
              0.7777777777777778,
              "#fb9f3a"
             ],
             [
              0.8888888888888888,
              "#fdca26"
             ],
             [
              1,
              "#f0f921"
             ]
            ],
            "type": "heatmapgl"
           }
          ],
          "histogram": [
           {
            "marker": {
             "pattern": {
              "fillmode": "overlay",
              "size": 10,
              "solidity": 0.2
             }
            },
            "type": "histogram"
           }
          ],
          "histogram2d": [
           {
            "colorbar": {
             "outlinewidth": 0,
             "ticks": ""
            },
            "colorscale": [
             [
              0,
              "#0d0887"
             ],
             [
              0.1111111111111111,
              "#46039f"
             ],
             [
              0.2222222222222222,
              "#7201a8"
             ],
             [
              0.3333333333333333,
              "#9c179e"
             ],
             [
              0.4444444444444444,
              "#bd3786"
             ],
             [
              0.5555555555555556,
              "#d8576b"
             ],
             [
              0.6666666666666666,
              "#ed7953"
             ],
             [
              0.7777777777777778,
              "#fb9f3a"
             ],
             [
              0.8888888888888888,
              "#fdca26"
             ],
             [
              1,
              "#f0f921"
             ]
            ],
            "type": "histogram2d"
           }
          ],
          "histogram2dcontour": [
           {
            "colorbar": {
             "outlinewidth": 0,
             "ticks": ""
            },
            "colorscale": [
             [
              0,
              "#0d0887"
             ],
             [
              0.1111111111111111,
              "#46039f"
             ],
             [
              0.2222222222222222,
              "#7201a8"
             ],
             [
              0.3333333333333333,
              "#9c179e"
             ],
             [
              0.4444444444444444,
              "#bd3786"
             ],
             [
              0.5555555555555556,
              "#d8576b"
             ],
             [
              0.6666666666666666,
              "#ed7953"
             ],
             [
              0.7777777777777778,
              "#fb9f3a"
             ],
             [
              0.8888888888888888,
              "#fdca26"
             ],
             [
              1,
              "#f0f921"
             ]
            ],
            "type": "histogram2dcontour"
           }
          ],
          "mesh3d": [
           {
            "colorbar": {
             "outlinewidth": 0,
             "ticks": ""
            },
            "type": "mesh3d"
           }
          ],
          "parcoords": [
           {
            "line": {
             "colorbar": {
              "outlinewidth": 0,
              "ticks": ""
             }
            },
            "type": "parcoords"
           }
          ],
          "pie": [
           {
            "automargin": true,
            "type": "pie"
           }
          ],
          "scatter": [
           {
            "fillpattern": {
             "fillmode": "overlay",
             "size": 10,
             "solidity": 0.2
            },
            "type": "scatter"
           }
          ],
          "scatter3d": [
           {
            "line": {
             "colorbar": {
              "outlinewidth": 0,
              "ticks": ""
             }
            },
            "marker": {
             "colorbar": {
              "outlinewidth": 0,
              "ticks": ""
             }
            },
            "type": "scatter3d"
           }
          ],
          "scattercarpet": [
           {
            "marker": {
             "colorbar": {
              "outlinewidth": 0,
              "ticks": ""
             }
            },
            "type": "scattercarpet"
           }
          ],
          "scattergeo": [
           {
            "marker": {
             "colorbar": {
              "outlinewidth": 0,
              "ticks": ""
             }
            },
            "type": "scattergeo"
           }
          ],
          "scattergl": [
           {
            "marker": {
             "colorbar": {
              "outlinewidth": 0,
              "ticks": ""
             }
            },
            "type": "scattergl"
           }
          ],
          "scattermapbox": [
           {
            "marker": {
             "colorbar": {
              "outlinewidth": 0,
              "ticks": ""
             }
            },
            "type": "scattermapbox"
           }
          ],
          "scatterpolar": [
           {
            "marker": {
             "colorbar": {
              "outlinewidth": 0,
              "ticks": ""
             }
            },
            "type": "scatterpolar"
           }
          ],
          "scatterpolargl": [
           {
            "marker": {
             "colorbar": {
              "outlinewidth": 0,
              "ticks": ""
             }
            },
            "type": "scatterpolargl"
           }
          ],
          "scatterternary": [
           {
            "marker": {
             "colorbar": {
              "outlinewidth": 0,
              "ticks": ""
             }
            },
            "type": "scatterternary"
           }
          ],
          "surface": [
           {
            "colorbar": {
             "outlinewidth": 0,
             "ticks": ""
            },
            "colorscale": [
             [
              0,
              "#0d0887"
             ],
             [
              0.1111111111111111,
              "#46039f"
             ],
             [
              0.2222222222222222,
              "#7201a8"
             ],
             [
              0.3333333333333333,
              "#9c179e"
             ],
             [
              0.4444444444444444,
              "#bd3786"
             ],
             [
              0.5555555555555556,
              "#d8576b"
             ],
             [
              0.6666666666666666,
              "#ed7953"
             ],
             [
              0.7777777777777778,
              "#fb9f3a"
             ],
             [
              0.8888888888888888,
              "#fdca26"
             ],
             [
              1,
              "#f0f921"
             ]
            ],
            "type": "surface"
           }
          ],
          "table": [
           {
            "cells": {
             "fill": {
              "color": "#EBF0F8"
             },
             "line": {
              "color": "white"
             }
            },
            "header": {
             "fill": {
              "color": "#C8D4E3"
             },
             "line": {
              "color": "white"
             }
            },
            "type": "table"
           }
          ]
         },
         "layout": {
          "annotationdefaults": {
           "arrowcolor": "#2a3f5f",
           "arrowhead": 0,
           "arrowwidth": 1
          },
          "autotypenumbers": "strict",
          "coloraxis": {
           "colorbar": {
            "outlinewidth": 0,
            "ticks": ""
           }
          },
          "colorscale": {
           "diverging": [
            [
             0,
             "#8e0152"
            ],
            [
             0.1,
             "#c51b7d"
            ],
            [
             0.2,
             "#de77ae"
            ],
            [
             0.3,
             "#f1b6da"
            ],
            [
             0.4,
             "#fde0ef"
            ],
            [
             0.5,
             "#f7f7f7"
            ],
            [
             0.6,
             "#e6f5d0"
            ],
            [
             0.7,
             "#b8e186"
            ],
            [
             0.8,
             "#7fbc41"
            ],
            [
             0.9,
             "#4d9221"
            ],
            [
             1,
             "#276419"
            ]
           ],
           "sequential": [
            [
             0,
             "#0d0887"
            ],
            [
             0.1111111111111111,
             "#46039f"
            ],
            [
             0.2222222222222222,
             "#7201a8"
            ],
            [
             0.3333333333333333,
             "#9c179e"
            ],
            [
             0.4444444444444444,
             "#bd3786"
            ],
            [
             0.5555555555555556,
             "#d8576b"
            ],
            [
             0.6666666666666666,
             "#ed7953"
            ],
            [
             0.7777777777777778,
             "#fb9f3a"
            ],
            [
             0.8888888888888888,
             "#fdca26"
            ],
            [
             1,
             "#f0f921"
            ]
           ],
           "sequentialminus": [
            [
             0,
             "#0d0887"
            ],
            [
             0.1111111111111111,
             "#46039f"
            ],
            [
             0.2222222222222222,
             "#7201a8"
            ],
            [
             0.3333333333333333,
             "#9c179e"
            ],
            [
             0.4444444444444444,
             "#bd3786"
            ],
            [
             0.5555555555555556,
             "#d8576b"
            ],
            [
             0.6666666666666666,
             "#ed7953"
            ],
            [
             0.7777777777777778,
             "#fb9f3a"
            ],
            [
             0.8888888888888888,
             "#fdca26"
            ],
            [
             1,
             "#f0f921"
            ]
           ]
          },
          "colorway": [
           "#636efa",
           "#EF553B",
           "#00cc96",
           "#ab63fa",
           "#FFA15A",
           "#19d3f3",
           "#FF6692",
           "#B6E880",
           "#FF97FF",
           "#FECB52"
          ],
          "font": {
           "color": "#2a3f5f"
          },
          "geo": {
           "bgcolor": "white",
           "lakecolor": "white",
           "landcolor": "#E5ECF6",
           "showlakes": true,
           "showland": true,
           "subunitcolor": "white"
          },
          "hoverlabel": {
           "align": "left"
          },
          "hovermode": "closest",
          "mapbox": {
           "style": "light"
          },
          "paper_bgcolor": "white",
          "plot_bgcolor": "#E5ECF6",
          "polar": {
           "angularaxis": {
            "gridcolor": "white",
            "linecolor": "white",
            "ticks": ""
           },
           "bgcolor": "#E5ECF6",
           "radialaxis": {
            "gridcolor": "white",
            "linecolor": "white",
            "ticks": ""
           }
          },
          "scene": {
           "xaxis": {
            "backgroundcolor": "#E5ECF6",
            "gridcolor": "white",
            "gridwidth": 2,
            "linecolor": "white",
            "showbackground": true,
            "ticks": "",
            "zerolinecolor": "white"
           },
           "yaxis": {
            "backgroundcolor": "#E5ECF6",
            "gridcolor": "white",
            "gridwidth": 2,
            "linecolor": "white",
            "showbackground": true,
            "ticks": "",
            "zerolinecolor": "white"
           },
           "zaxis": {
            "backgroundcolor": "#E5ECF6",
            "gridcolor": "white",
            "gridwidth": 2,
            "linecolor": "white",
            "showbackground": true,
            "ticks": "",
            "zerolinecolor": "white"
           }
          },
          "shapedefaults": {
           "line": {
            "color": "#2a3f5f"
           }
          },
          "ternary": {
           "aaxis": {
            "gridcolor": "white",
            "linecolor": "white",
            "ticks": ""
           },
           "baxis": {
            "gridcolor": "white",
            "linecolor": "white",
            "ticks": ""
           },
           "bgcolor": "#E5ECF6",
           "caxis": {
            "gridcolor": "white",
            "linecolor": "white",
            "ticks": ""
           }
          },
          "title": {
           "x": 0.05
          },
          "xaxis": {
           "automargin": true,
           "gridcolor": "white",
           "linecolor": "white",
           "ticks": "",
           "title": {
            "standoff": 15
           },
           "zerolinecolor": "white",
           "zerolinewidth": 2
          },
          "yaxis": {
           "automargin": true,
           "gridcolor": "white",
           "linecolor": "white",
           "ticks": "",
           "title": {
            "standoff": 15
           },
           "zerolinecolor": "white",
           "zerolinewidth": 2
          }
         }
        },
        "width": 900
       }
      },
      "text/html": [
       "<div>                            <div id=\"791f1a7d-6ea2-41b1-8250-6246c25e264b\" class=\"plotly-graph-div\" style=\"height:600px; width:900px;\"></div>            <script type=\"text/javascript\">                require([\"plotly\"], function(Plotly) {                    window.PLOTLYENV=window.PLOTLYENV || {};                                    if (document.getElementById(\"791f1a7d-6ea2-41b1-8250-6246c25e264b\")) {                    Plotly.newPlot(                        \"791f1a7d-6ea2-41b1-8250-6246c25e264b\",                        [{\"customdata\":[[\"Oceanside\",\"California\",\"United States\"],[\"Redmond\",\"Washington\",\"United States\"],[\"Provo\",\"Utah\",\"United States\"],[\"Pullman\",\"Washington\",\"United States\"],[\"Elkhorn\",\"Nebraska\",\"United States\"],[\"Salt Lake City\",\"Utah\",\"United States\"]],\"geo\":\"geo\",\"hovertemplate\":\"country=%{customdata[2]}\\u003cbr\\u003elatitude=%{lat}\\u003cbr\\u003elongitude=%{lon}\\u003cbr\\u003eplace name=%{customdata[0]}\\u003cbr\\u003estate=%{customdata[1]}\\u003cextra\\u003e\\u003c\\u002fextra\\u003e\",\"lat\":[\"33.1968\",\"47.6718\",\"40.3563\",\"46.7352\",\"41.2756\",\"40.76\"],\"legendgroup\":\"United States\",\"lon\":[\"-117.2831\",\"-122.1232\",\"-111.7325\",\"-117.1729\",\"-96.2431\",\"-111.8627\"],\"marker\":{\"color\":\"#636efa\",\"symbol\":\"circle\"},\"mode\":\"markers\",\"name\":\"United States\",\"showlegend\":true,\"type\":\"scattergeo\"},{\"customdata\":[[\"S\\u00e3o Jos\\u00e9 do Norte\",\"Rio Grande do Sul\",\"Brazil\"],[\"Cangu\\u00e7u\",\"Rio Grande do Sul\",\"Brazil\"]],\"geo\":\"geo\",\"hovertemplate\":\"country=%{customdata[2]}\\u003cbr\\u003elatitude=%{lat}\\u003cbr\\u003elongitude=%{lon}\\u003cbr\\u003eplace name=%{customdata[0]}\\u003cbr\\u003estate=%{customdata[1]}\\u003cextra\\u003e\\u003c\\u002fextra\\u003e\",\"lat\":[\"-31.8009\",\"-31.2117\"],\"legendgroup\":\"Brazil\",\"lon\":[\"-51.762\",\"-52.6682\"],\"marker\":{\"color\":\"#EF553B\",\"symbol\":\"circle\"},\"mode\":\"markers\",\"name\":\"Brazil\",\"showlegend\":true,\"type\":\"scattergeo\"}],                        {\"template\":{\"data\":{\"histogram2dcontour\":[{\"type\":\"histogram2dcontour\",\"colorbar\":{\"outlinewidth\":0,\"ticks\":\"\"},\"colorscale\":[[0.0,\"#0d0887\"],[0.1111111111111111,\"#46039f\"],[0.2222222222222222,\"#7201a8\"],[0.3333333333333333,\"#9c179e\"],[0.4444444444444444,\"#bd3786\"],[0.5555555555555556,\"#d8576b\"],[0.6666666666666666,\"#ed7953\"],[0.7777777777777778,\"#fb9f3a\"],[0.8888888888888888,\"#fdca26\"],[1.0,\"#f0f921\"]]}],\"choropleth\":[{\"type\":\"choropleth\",\"colorbar\":{\"outlinewidth\":0,\"ticks\":\"\"}}],\"histogram2d\":[{\"type\":\"histogram2d\",\"colorbar\":{\"outlinewidth\":0,\"ticks\":\"\"},\"colorscale\":[[0.0,\"#0d0887\"],[0.1111111111111111,\"#46039f\"],[0.2222222222222222,\"#7201a8\"],[0.3333333333333333,\"#9c179e\"],[0.4444444444444444,\"#bd3786\"],[0.5555555555555556,\"#d8576b\"],[0.6666666666666666,\"#ed7953\"],[0.7777777777777778,\"#fb9f3a\"],[0.8888888888888888,\"#fdca26\"],[1.0,\"#f0f921\"]]}],\"heatmap\":[{\"type\":\"heatmap\",\"colorbar\":{\"outlinewidth\":0,\"ticks\":\"\"},\"colorscale\":[[0.0,\"#0d0887\"],[0.1111111111111111,\"#46039f\"],[0.2222222222222222,\"#7201a8\"],[0.3333333333333333,\"#9c179e\"],[0.4444444444444444,\"#bd3786\"],[0.5555555555555556,\"#d8576b\"],[0.6666666666666666,\"#ed7953\"],[0.7777777777777778,\"#fb9f3a\"],[0.8888888888888888,\"#fdca26\"],[1.0,\"#f0f921\"]]}],\"heatmapgl\":[{\"type\":\"heatmapgl\",\"colorbar\":{\"outlinewidth\":0,\"ticks\":\"\"},\"colorscale\":[[0.0,\"#0d0887\"],[0.1111111111111111,\"#46039f\"],[0.2222222222222222,\"#7201a8\"],[0.3333333333333333,\"#9c179e\"],[0.4444444444444444,\"#bd3786\"],[0.5555555555555556,\"#d8576b\"],[0.6666666666666666,\"#ed7953\"],[0.7777777777777778,\"#fb9f3a\"],[0.8888888888888888,\"#fdca26\"],[1.0,\"#f0f921\"]]}],\"contourcarpet\":[{\"type\":\"contourcarpet\",\"colorbar\":{\"outlinewidth\":0,\"ticks\":\"\"}}],\"contour\":[{\"type\":\"contour\",\"colorbar\":{\"outlinewidth\":0,\"ticks\":\"\"},\"colorscale\":[[0.0,\"#0d0887\"],[0.1111111111111111,\"#46039f\"],[0.2222222222222222,\"#7201a8\"],[0.3333333333333333,\"#9c179e\"],[0.4444444444444444,\"#bd3786\"],[0.5555555555555556,\"#d8576b\"],[0.6666666666666666,\"#ed7953\"],[0.7777777777777778,\"#fb9f3a\"],[0.8888888888888888,\"#fdca26\"],[1.0,\"#f0f921\"]]}],\"surface\":[{\"type\":\"surface\",\"colorbar\":{\"outlinewidth\":0,\"ticks\":\"\"},\"colorscale\":[[0.0,\"#0d0887\"],[0.1111111111111111,\"#46039f\"],[0.2222222222222222,\"#7201a8\"],[0.3333333333333333,\"#9c179e\"],[0.4444444444444444,\"#bd3786\"],[0.5555555555555556,\"#d8576b\"],[0.6666666666666666,\"#ed7953\"],[0.7777777777777778,\"#fb9f3a\"],[0.8888888888888888,\"#fdca26\"],[1.0,\"#f0f921\"]]}],\"mesh3d\":[{\"type\":\"mesh3d\",\"colorbar\":{\"outlinewidth\":0,\"ticks\":\"\"}}],\"scatter\":[{\"fillpattern\":{\"fillmode\":\"overlay\",\"size\":10,\"solidity\":0.2},\"type\":\"scatter\"}],\"parcoords\":[{\"type\":\"parcoords\",\"line\":{\"colorbar\":{\"outlinewidth\":0,\"ticks\":\"\"}}}],\"scatterpolargl\":[{\"type\":\"scatterpolargl\",\"marker\":{\"colorbar\":{\"outlinewidth\":0,\"ticks\":\"\"}}}],\"bar\":[{\"error_x\":{\"color\":\"#2a3f5f\"},\"error_y\":{\"color\":\"#2a3f5f\"},\"marker\":{\"line\":{\"color\":\"#E5ECF6\",\"width\":0.5},\"pattern\":{\"fillmode\":\"overlay\",\"size\":10,\"solidity\":0.2}},\"type\":\"bar\"}],\"scattergeo\":[{\"type\":\"scattergeo\",\"marker\":{\"colorbar\":{\"outlinewidth\":0,\"ticks\":\"\"}}}],\"scatterpolar\":[{\"type\":\"scatterpolar\",\"marker\":{\"colorbar\":{\"outlinewidth\":0,\"ticks\":\"\"}}}],\"histogram\":[{\"marker\":{\"pattern\":{\"fillmode\":\"overlay\",\"size\":10,\"solidity\":0.2}},\"type\":\"histogram\"}],\"scattergl\":[{\"type\":\"scattergl\",\"marker\":{\"colorbar\":{\"outlinewidth\":0,\"ticks\":\"\"}}}],\"scatter3d\":[{\"type\":\"scatter3d\",\"line\":{\"colorbar\":{\"outlinewidth\":0,\"ticks\":\"\"}},\"marker\":{\"colorbar\":{\"outlinewidth\":0,\"ticks\":\"\"}}}],\"scattermapbox\":[{\"type\":\"scattermapbox\",\"marker\":{\"colorbar\":{\"outlinewidth\":0,\"ticks\":\"\"}}}],\"scatterternary\":[{\"type\":\"scatterternary\",\"marker\":{\"colorbar\":{\"outlinewidth\":0,\"ticks\":\"\"}}}],\"scattercarpet\":[{\"type\":\"scattercarpet\",\"marker\":{\"colorbar\":{\"outlinewidth\":0,\"ticks\":\"\"}}}],\"carpet\":[{\"aaxis\":{\"endlinecolor\":\"#2a3f5f\",\"gridcolor\":\"white\",\"linecolor\":\"white\",\"minorgridcolor\":\"white\",\"startlinecolor\":\"#2a3f5f\"},\"baxis\":{\"endlinecolor\":\"#2a3f5f\",\"gridcolor\":\"white\",\"linecolor\":\"white\",\"minorgridcolor\":\"white\",\"startlinecolor\":\"#2a3f5f\"},\"type\":\"carpet\"}],\"table\":[{\"cells\":{\"fill\":{\"color\":\"#EBF0F8\"},\"line\":{\"color\":\"white\"}},\"header\":{\"fill\":{\"color\":\"#C8D4E3\"},\"line\":{\"color\":\"white\"}},\"type\":\"table\"}],\"barpolar\":[{\"marker\":{\"line\":{\"color\":\"#E5ECF6\",\"width\":0.5},\"pattern\":{\"fillmode\":\"overlay\",\"size\":10,\"solidity\":0.2}},\"type\":\"barpolar\"}],\"pie\":[{\"automargin\":true,\"type\":\"pie\"}]},\"layout\":{\"autotypenumbers\":\"strict\",\"colorway\":[\"#636efa\",\"#EF553B\",\"#00cc96\",\"#ab63fa\",\"#FFA15A\",\"#19d3f3\",\"#FF6692\",\"#B6E880\",\"#FF97FF\",\"#FECB52\"],\"font\":{\"color\":\"#2a3f5f\"},\"hovermode\":\"closest\",\"hoverlabel\":{\"align\":\"left\"},\"paper_bgcolor\":\"white\",\"plot_bgcolor\":\"#E5ECF6\",\"polar\":{\"bgcolor\":\"#E5ECF6\",\"angularaxis\":{\"gridcolor\":\"white\",\"linecolor\":\"white\",\"ticks\":\"\"},\"radialaxis\":{\"gridcolor\":\"white\",\"linecolor\":\"white\",\"ticks\":\"\"}},\"ternary\":{\"bgcolor\":\"#E5ECF6\",\"aaxis\":{\"gridcolor\":\"white\",\"linecolor\":\"white\",\"ticks\":\"\"},\"baxis\":{\"gridcolor\":\"white\",\"linecolor\":\"white\",\"ticks\":\"\"},\"caxis\":{\"gridcolor\":\"white\",\"linecolor\":\"white\",\"ticks\":\"\"}},\"coloraxis\":{\"colorbar\":{\"outlinewidth\":0,\"ticks\":\"\"}},\"colorscale\":{\"sequential\":[[0.0,\"#0d0887\"],[0.1111111111111111,\"#46039f\"],[0.2222222222222222,\"#7201a8\"],[0.3333333333333333,\"#9c179e\"],[0.4444444444444444,\"#bd3786\"],[0.5555555555555556,\"#d8576b\"],[0.6666666666666666,\"#ed7953\"],[0.7777777777777778,\"#fb9f3a\"],[0.8888888888888888,\"#fdca26\"],[1.0,\"#f0f921\"]],\"sequentialminus\":[[0.0,\"#0d0887\"],[0.1111111111111111,\"#46039f\"],[0.2222222222222222,\"#7201a8\"],[0.3333333333333333,\"#9c179e\"],[0.4444444444444444,\"#bd3786\"],[0.5555555555555556,\"#d8576b\"],[0.6666666666666666,\"#ed7953\"],[0.7777777777777778,\"#fb9f3a\"],[0.8888888888888888,\"#fdca26\"],[1.0,\"#f0f921\"]],\"diverging\":[[0,\"#8e0152\"],[0.1,\"#c51b7d\"],[0.2,\"#de77ae\"],[0.3,\"#f1b6da\"],[0.4,\"#fde0ef\"],[0.5,\"#f7f7f7\"],[0.6,\"#e6f5d0\"],[0.7,\"#b8e186\"],[0.8,\"#7fbc41\"],[0.9,\"#4d9221\"],[1,\"#276419\"]]},\"xaxis\":{\"gridcolor\":\"white\",\"linecolor\":\"white\",\"ticks\":\"\",\"title\":{\"standoff\":15},\"zerolinecolor\":\"white\",\"automargin\":true,\"zerolinewidth\":2},\"yaxis\":{\"gridcolor\":\"white\",\"linecolor\":\"white\",\"ticks\":\"\",\"title\":{\"standoff\":15},\"zerolinecolor\":\"white\",\"automargin\":true,\"zerolinewidth\":2},\"scene\":{\"xaxis\":{\"backgroundcolor\":\"#E5ECF6\",\"gridcolor\":\"white\",\"linecolor\":\"white\",\"showbackground\":true,\"ticks\":\"\",\"zerolinecolor\":\"white\",\"gridwidth\":2},\"yaxis\":{\"backgroundcolor\":\"#E5ECF6\",\"gridcolor\":\"white\",\"linecolor\":\"white\",\"showbackground\":true,\"ticks\":\"\",\"zerolinecolor\":\"white\",\"gridwidth\":2},\"zaxis\":{\"backgroundcolor\":\"#E5ECF6\",\"gridcolor\":\"white\",\"linecolor\":\"white\",\"showbackground\":true,\"ticks\":\"\",\"zerolinecolor\":\"white\",\"gridwidth\":2}},\"shapedefaults\":{\"line\":{\"color\":\"#2a3f5f\"}},\"annotationdefaults\":{\"arrowcolor\":\"#2a3f5f\",\"arrowhead\":0,\"arrowwidth\":1},\"geo\":{\"bgcolor\":\"white\",\"landcolor\":\"#E5ECF6\",\"subunitcolor\":\"white\",\"showland\":true,\"showlakes\":true,\"lakecolor\":\"white\"},\"title\":{\"x\":0.05},\"mapbox\":{\"style\":\"light\"}}},\"geo\":{\"domain\":{\"x\":[0.0,1.0],\"y\":[0.0,1.0]},\"projection\":{\"type\":\"natural earth\"},\"center\":{}},\"legend\":{\"title\":{\"text\":\"country\"},\"tracegroupgap\":0},\"margin\":{\"t\":60},\"height\":600,\"width\":900},                        {\"responsive\": true}                    ).then(function(){\n",
       "                            \n",
       "var gd = document.getElementById('791f1a7d-6ea2-41b1-8250-6246c25e264b');\n",
       "var x = new MutationObserver(function (mutations, observer) {{\n",
       "        var display = window.getComputedStyle(gd).display;\n",
       "        if (!display || display === 'none') {{\n",
       "            console.log([gd, 'removed!']);\n",
       "            Plotly.purge(gd);\n",
       "            observer.disconnect();\n",
       "        }}\n",
       "}});\n",
       "\n",
       "// Listen for the removal of the full notebook cells\n",
       "var notebookContainer = gd.closest('#notebook-container');\n",
       "if (notebookContainer) {{\n",
       "    x.observe(notebookContainer, {childList: true});\n",
       "}}\n",
       "\n",
       "// Listen for the clearing of the current output cell\n",
       "var outputEl = gd.closest('.output');\n",
       "if (outputEl) {{\n",
       "    x.observe(outputEl, {childList: true});\n",
       "}}\n",
       "\n",
       "                        })                };                });            </script>        </div>"
      ]
     },
     "metadata": {},
     "output_type": "display_data"
    }
   ],
   "source": [
    "import plotly.express as px\n",
    "\n",
    "px.scatter_geo(data, 'latitude', 'longitude', \n",
    "               hover_data=['place name', 'state', 'country'], \n",
    "               color='country', \n",
    "               projection = 'natural earth',\n",
    "               width = 900,\n",
    "               height = 600,\n",
    "               )"
   ]
  },
  {
   "cell_type": "markdown",
   "id": "90377ded-981a-416c-9aa2-20f46a279466",
   "metadata": {},
   "source": [
    "And there you have it! A map of places that I have lived!\n",
    "\n",
    "![](newplot.png)\n",
    "\n",
    "It really looks a lot less impressive on a world map...\n",
    "\n",
    "APIs will allow us to do all sorts of amazing work. Some APIs that are awesome but require accounts are listed below:\n",
    "\n",
    "- [Twitter Realtime Tweet Filter](https://developer.twitter.com/en/docs/tweets/filter-realtime/overview)\n",
    "- [Tracker.gg](https://tracker.gg/)\n",
    "- [Google Maps Distance Matrix](https://developers.google.com/maps/documentation/distance-matrix/intro)\n",
    "\n",
    "With web scraping and APIs at our fingertips, our ability to gather and investigate data is limited only by our ability to come up with interesting research questions."
   ]
  },
  {
   "cell_type": "markdown",
   "id": "61705461-c2bf-46c9-9ed4-d741093b565d",
   "metadata": {},
   "source": [
    "**Solve-it!**\n",
    "\n",
    "In the cell commented with `#si-exercise` is a Data Frame called `capitals` containing capital cities in states across the United States. Use the [Zippopotam.us](https://api.zippopotam.us) API to gather latitude and longitude information on each city, and add columns named `lat` and `lon` containing the latitude and longitude data for each city, respectively. Once you have done that, map all of the cities using their latitude and longitude data on a map with `scope=usa`. Store the map as a variable called `fig`.\n",
    "\n",
    "*Hints:* \n",
    "1. If you use my code from the notes above, you can't use the projection that I used with `scope=\"usa\"`. Get rid of the `projection` argument and replace it with the scope argument.\n",
    "2. You just need to grab a single latitude and longitude for the cities. I recommend using the first one in the list.\n",
    "\n",
    "You will be graded on the following:\n",
    "- Created columns named `lat` and `lon` in the `capitals` Data Frame [1 point]\n",
    "- `lat` contains correct latitude for the city [1 point]\n",
    "- `lon` contains correct longitude for the city [1 point]\n",
    "- Map (store as `fig`) displays capitals based on latitude and longitude values [1 point]"
   ]
  },
  {
   "cell_type": "code",
   "execution_count": 92,
   "id": "a0d72710-b6ed-4b30-83c1-3ae157bbda5e",
   "metadata": {},
   "outputs": [],
   "source": [
    "#si-exercise\n",
    "\n",
    "import pandas as pd\n",
    "import json\n",
    "import plotly.express as px\n",
    "import requests\n",
    "\n",
    "capitals = pd.DataFrame([[\"Alabama\",\"Montgomery\",\"AL\"],\n",
    "[\"Alaska\",\"Juneau\",\"AK\"],\n",
    "[\"Arizona\",\"Phoenix\",\"AZ\"],\n",
    "[\"Arkansas\",\"Little Rock\",\"AR\"],\n",
    "[\"California\",\"Sacramento\",\"CA\"],\n",
    "[\"Colorado\",\"Denver\",\"CO\"],\n",
    "[\"Connecticut\",\"Hartford\",\"CT\"],\n",
    "[\"Delaware\",\"Dover\",\"DE\"],\n",
    "[\"Florida\",\"Tallahassee\",\"FL\"],\n",
    "[\"Georgia\",\"Atlanta\",\"GA\"],\n",
    "[\"Hawaii\",\"Honolulu\",\"HI\"],\n",
    "[\"Idaho\",\"Boise\",\"ID\"],\n",
    "[\"Illinois\",\"Springfield\",\"IL\"],\n",
    "[\"Indiana\",\"Indianapolis\",\"IN\"],\n",
    "[\"Iowa\",\"Des Moines\",\"IA\"],\n",
    "[\"Kansas\",\"Topeka\",\"KS\"],\n",
    "[\"Kentucky\",\"Frankfort\",\"KY\"],\n",
    "[\"Louisiana\",\"Baton Rouge\",\"LA\"],\n",
    "[\"Maine\",\"Augusta\",\"ME\"],\n",
    "[\"Maryland\",\"Annapolis\",\"MD\"],\n",
    "[\"Massachusetts\",\"Boston\",\"MA\"],\n",
    "[\"Michigan\",\"Lansing\",\"MI\"],\n",
    "[\"Minnesota\",\"Saint Paul\",\"MN\"],\n",
    "[\"Mississippi\",\"Jackson\",\"MS\"],\n",
    "[\"Missouri\",\"Jefferson City\",\"MO\"],\n",
    "[\"Montana\",\"Helena\",\"MT\"],\n",
    "[\"Nebraska\",\"Lincoln\",\"NE\"],\n",
    "[\"Nevada\",\"Carson City\",\"NV\"],\n",
    "[\"New Hampshire\",\"Concord\",\"NH\"],\n",
    "[\"New Jersey\",\"Trenton\",\"NJ\"],\n",
    "[\"New Mexico\",\"Santa Fe\",\"NM\"],\n",
    "[\"New York\",\"Albany\",\"NY\"],\n",
    "[\"North Carolina\",\"Raleigh\",\"NC\"],\n",
    "[\"North Dakota\",\"Bismarck\",\"ND\"],\n",
    "[\"Ohio\",\"Columbus\",\"OH\"],\n",
    "[\"Oklahoma\",\"Oklahoma City\",\"OK\"],\n",
    "[\"Oregon\",\"Salem\",\"OR\"],\n",
    "[\"Pennsylvania\",\"Harrisburg\",\"PA\"],\n",
    "[\"Rhode Island\",\"Providence\",\"RI\"],\n",
    "[\"South Carolina\",\"Columbia\",\"SC\"],\n",
    "[\"South Dakota\",\"Pierre\",\"SD\"],\n",
    "[\"Tennessee\",\"Nashville\",\"TN\"],\n",
    "[\"Texas\",\"Austin\",\"TX\"],\n",
    "[\"Utah\",\"Salt Lake City\",\"UT\"],\n",
    "[\"Vermont\",\"Montpelier\",\"VT\"],\n",
    "[\"Virginia\",\"Richmond\",\"VA\"],\n",
    "[\"Washington\",\"Olympia\",\"WA\"],\n",
    "[\"West Virginia\",\"Charleston\",\"WV\"],\n",
    "[\"Wisconsin\",\"Madison\",\"WI\"],\n",
    "[\"Wyoming\",\"Cheyenne\",\"WY\"]], columns = ['state', 'capital', 'abbrev'])\n",
    "\n",
    "###\n",
    "### PUT YOUR CODE HERE. FEEL FREE TO USE THE PLOTTING COMMAND BELOW TO COMPLETE THE ASSIGNMENT\n",
    "###\n",
    "\n",
    "locales = []\n",
    "\n",
    "for i in range(len(capitals['state'])):\n",
    "    call = \"https://api.zippopotam.us/us/{0}/{1}\".format(capitals['abbrev'][i],capitals['capital'][i])\n",
    "    locales.append(requests.get(call).text)\n",
    "    # print(call)\n",
    "locales = [json.loads(i) for i in locales]\n",
    "locales = pd.DataFrame(locales)\n",
    "\n",
    "for i in range(len(capitals['state'])):\n",
    "    lon = float(locales['places'][i][0][\"longitude\"])\n",
    "    lat = float(locales['places'][i][0][\"latitude\"])\n",
    "    # place = locales['places'][i][0][\"place name\"]\n",
    "    capitals.loc[i, 'lat'] = lat\n",
    "    capitals.loc[i, 'lon'] = lon\n",
    "\n",
    "fig = px.scatter_geo(capitals, 'lat', 'lon', hover_data=['state', 'capital'], scope=\"usa\")"
   ]
  },
  {
   "cell_type": "code",
   "execution_count": 91,
   "id": "8d539956-f3ed-45c1-8d2e-8fe3b59b9d7e",
   "metadata": {},
   "outputs": [
    {
     "data": {
      "text/html": [
       "<div>\n",
       "<style scoped>\n",
       "    .dataframe tbody tr th:only-of-type {\n",
       "        vertical-align: middle;\n",
       "    }\n",
       "\n",
       "    .dataframe tbody tr th {\n",
       "        vertical-align: top;\n",
       "    }\n",
       "\n",
       "    .dataframe thead th {\n",
       "        text-align: right;\n",
       "    }\n",
       "</style>\n",
       "<table border=\"1\" class=\"dataframe\">\n",
       "  <thead>\n",
       "    <tr style=\"text-align: right;\">\n",
       "      <th></th>\n",
       "      <th>state</th>\n",
       "      <th>capital</th>\n",
       "      <th>abbrev</th>\n",
       "      <th>lat</th>\n",
       "      <th>lon</th>\n",
       "    </tr>\n",
       "  </thead>\n",
       "  <tbody>\n",
       "    <tr>\n",
       "      <th>0</th>\n",
       "      <td>Alabama</td>\n",
       "      <td>Montgomery</td>\n",
       "      <td>AL</td>\n",
       "      <td>32.3570</td>\n",
       "      <td>-86.2578</td>\n",
       "    </tr>\n",
       "    <tr>\n",
       "      <th>1</th>\n",
       "      <td>Alaska</td>\n",
       "      <td>Juneau</td>\n",
       "      <td>AK</td>\n",
       "      <td>58.3628</td>\n",
       "      <td>-134.5294</td>\n",
       "    </tr>\n",
       "    <tr>\n",
       "      <th>2</th>\n",
       "      <td>Arizona</td>\n",
       "      <td>Phoenix</td>\n",
       "      <td>AZ</td>\n",
       "      <td>33.7040</td>\n",
       "      <td>-112.3518</td>\n",
       "    </tr>\n",
       "    <tr>\n",
       "      <th>3</th>\n",
       "      <td>Arkansas</td>\n",
       "      <td>Little Rock</td>\n",
       "      <td>AR</td>\n",
       "      <td>34.9074</td>\n",
       "      <td>-92.1397</td>\n",
       "    </tr>\n",
       "    <tr>\n",
       "      <th>4</th>\n",
       "      <td>California</td>\n",
       "      <td>Sacramento</td>\n",
       "      <td>CA</td>\n",
       "      <td>38.3805</td>\n",
       "      <td>-121.5554</td>\n",
       "    </tr>\n",
       "    <tr>\n",
       "      <th>5</th>\n",
       "      <td>Colorado</td>\n",
       "      <td>Denver</td>\n",
       "      <td>CO</td>\n",
       "      <td>39.7263</td>\n",
       "      <td>-104.8568</td>\n",
       "    </tr>\n",
       "    <tr>\n",
       "      <th>6</th>\n",
       "      <td>Connecticut</td>\n",
       "      <td>Hartford</td>\n",
       "      <td>CT</td>\n",
       "      <td>41.8468</td>\n",
       "      <td>-73.0104</td>\n",
       "    </tr>\n",
       "    <tr>\n",
       "      <th>7</th>\n",
       "      <td>Delaware</td>\n",
       "      <td>Dover</td>\n",
       "      <td>DE</td>\n",
       "      <td>39.1564</td>\n",
       "      <td>-75.4955</td>\n",
       "    </tr>\n",
       "    <tr>\n",
       "      <th>8</th>\n",
       "      <td>Florida</td>\n",
       "      <td>Tallahassee</td>\n",
       "      <td>FL</td>\n",
       "      <td>30.4286</td>\n",
       "      <td>-84.2593</td>\n",
       "    </tr>\n",
       "    <tr>\n",
       "      <th>9</th>\n",
       "      <td>Georgia</td>\n",
       "      <td>Atlanta</td>\n",
       "      <td>GA</td>\n",
       "      <td>33.8444</td>\n",
       "      <td>-84.4740</td>\n",
       "    </tr>\n",
       "    <tr>\n",
       "      <th>10</th>\n",
       "      <td>Hawaii</td>\n",
       "      <td>Honolulu</td>\n",
       "      <td>HI</td>\n",
       "      <td>24.8598</td>\n",
       "      <td>-168.0218</td>\n",
       "    </tr>\n",
       "    <tr>\n",
       "      <th>11</th>\n",
       "      <td>Idaho</td>\n",
       "      <td>Boise</td>\n",
       "      <td>ID</td>\n",
       "      <td>43.6038</td>\n",
       "      <td>-116.2729</td>\n",
       "    </tr>\n",
       "    <tr>\n",
       "      <th>12</th>\n",
       "      <td>Illinois</td>\n",
       "      <td>Springfield</td>\n",
       "      <td>IL</td>\n",
       "      <td>39.8000</td>\n",
       "      <td>-89.6495</td>\n",
       "    </tr>\n",
       "    <tr>\n",
       "      <th>13</th>\n",
       "      <td>Indiana</td>\n",
       "      <td>Indianapolis</td>\n",
       "      <td>IN</td>\n",
       "      <td>39.7750</td>\n",
       "      <td>-86.1093</td>\n",
       "    </tr>\n",
       "    <tr>\n",
       "      <th>14</th>\n",
       "      <td>Iowa</td>\n",
       "      <td>Des Moines</td>\n",
       "      <td>IA</td>\n",
       "      <td>41.5805</td>\n",
       "      <td>-93.7447</td>\n",
       "    </tr>\n",
       "    <tr>\n",
       "      <th>15</th>\n",
       "      <td>Kansas</td>\n",
       "      <td>Topeka</td>\n",
       "      <td>KS</td>\n",
       "      <td>38.9881</td>\n",
       "      <td>-95.7807</td>\n",
       "    </tr>\n",
       "    <tr>\n",
       "      <th>16</th>\n",
       "      <td>Kentucky</td>\n",
       "      <td>Frankfort</td>\n",
       "      <td>KY</td>\n",
       "      <td>38.2281</td>\n",
       "      <td>-84.8697</td>\n",
       "    </tr>\n",
       "    <tr>\n",
       "      <th>17</th>\n",
       "      <td>Louisiana</td>\n",
       "      <td>Baton Rouge</td>\n",
       "      <td>LA</td>\n",
       "      <td>30.4492</td>\n",
       "      <td>-91.1856</td>\n",
       "    </tr>\n",
       "    <tr>\n",
       "      <th>18</th>\n",
       "      <td>Maine</td>\n",
       "      <td>Augusta</td>\n",
       "      <td>ME</td>\n",
       "      <td>44.3232</td>\n",
       "      <td>-69.7665</td>\n",
       "    </tr>\n",
       "    <tr>\n",
       "      <th>19</th>\n",
       "      <td>Maryland</td>\n",
       "      <td>Annapolis</td>\n",
       "      <td>MD</td>\n",
       "      <td>39.1332</td>\n",
       "      <td>-76.7988</td>\n",
       "    </tr>\n",
       "    <tr>\n",
       "      <th>20</th>\n",
       "      <td>Massachusetts</td>\n",
       "      <td>Boston</td>\n",
       "      <td>MA</td>\n",
       "      <td>42.3706</td>\n",
       "      <td>-71.0270</td>\n",
       "    </tr>\n",
       "    <tr>\n",
       "      <th>21</th>\n",
       "      <td>Michigan</td>\n",
       "      <td>Lansing</td>\n",
       "      <td>MI</td>\n",
       "      <td>42.7388</td>\n",
       "      <td>-84.4764</td>\n",
       "    </tr>\n",
       "    <tr>\n",
       "      <th>22</th>\n",
       "      <td>Minnesota</td>\n",
       "      <td>Saint Paul</td>\n",
       "      <td>MN</td>\n",
       "      <td>44.8344</td>\n",
       "      <td>-92.9873</td>\n",
       "    </tr>\n",
       "    <tr>\n",
       "      <th>23</th>\n",
       "      <td>Mississippi</td>\n",
       "      <td>Jackson</td>\n",
       "      <td>MS</td>\n",
       "      <td>32.3205</td>\n",
       "      <td>-90.2076</td>\n",
       "    </tr>\n",
       "    <tr>\n",
       "      <th>24</th>\n",
       "      <td>Missouri</td>\n",
       "      <td>Jefferson City</td>\n",
       "      <td>MO</td>\n",
       "      <td>38.5462</td>\n",
       "      <td>-92.1525</td>\n",
       "    </tr>\n",
       "    <tr>\n",
       "      <th>25</th>\n",
       "      <td>Montana</td>\n",
       "      <td>Helena</td>\n",
       "      <td>MT</td>\n",
       "      <td>46.6131</td>\n",
       "      <td>-112.0213</td>\n",
       "    </tr>\n",
       "    <tr>\n",
       "      <th>26</th>\n",
       "      <td>Nebraska</td>\n",
       "      <td>Lincoln</td>\n",
       "      <td>NE</td>\n",
       "      <td>40.8651</td>\n",
       "      <td>-96.8231</td>\n",
       "    </tr>\n",
       "    <tr>\n",
       "      <th>27</th>\n",
       "      <td>Nevada</td>\n",
       "      <td>Carson City</td>\n",
       "      <td>NV</td>\n",
       "      <td>39.1507</td>\n",
       "      <td>-119.7459</td>\n",
       "    </tr>\n",
       "    <tr>\n",
       "      <th>28</th>\n",
       "      <td>New Hampshire</td>\n",
       "      <td>Concord</td>\n",
       "      <td>NH</td>\n",
       "      <td>43.2185</td>\n",
       "      <td>-71.5277</td>\n",
       "    </tr>\n",
       "    <tr>\n",
       "      <th>29</th>\n",
       "      <td>New Jersey</td>\n",
       "      <td>Trenton</td>\n",
       "      <td>NJ</td>\n",
       "      <td>40.2805</td>\n",
       "      <td>-74.7120</td>\n",
       "    </tr>\n",
       "    <tr>\n",
       "      <th>30</th>\n",
       "      <td>New Mexico</td>\n",
       "      <td>Santa Fe</td>\n",
       "      <td>NM</td>\n",
       "      <td>35.6975</td>\n",
       "      <td>-105.9821</td>\n",
       "    </tr>\n",
       "    <tr>\n",
       "      <th>31</th>\n",
       "      <td>New York</td>\n",
       "      <td>Albany</td>\n",
       "      <td>NY</td>\n",
       "      <td>42.6149</td>\n",
       "      <td>-73.9708</td>\n",
       "    </tr>\n",
       "    <tr>\n",
       "      <th>32</th>\n",
       "      <td>North Carolina</td>\n",
       "      <td>Raleigh</td>\n",
       "      <td>NC</td>\n",
       "      <td>35.7727</td>\n",
       "      <td>-78.6324</td>\n",
       "    </tr>\n",
       "    <tr>\n",
       "      <th>33</th>\n",
       "      <td>North Dakota</td>\n",
       "      <td>Bismarck</td>\n",
       "      <td>ND</td>\n",
       "      <td>46.8234</td>\n",
       "      <td>-100.7748</td>\n",
       "    </tr>\n",
       "    <tr>\n",
       "      <th>34</th>\n",
       "      <td>Ohio</td>\n",
       "      <td>Columbus</td>\n",
       "      <td>OH</td>\n",
       "      <td>40.0999</td>\n",
       "      <td>-83.0157</td>\n",
       "    </tr>\n",
       "    <tr>\n",
       "      <th>35</th>\n",
       "      <td>Oklahoma</td>\n",
       "      <td>Oklahoma City</td>\n",
       "      <td>OK</td>\n",
       "      <td>35.3513</td>\n",
       "      <td>-97.4953</td>\n",
       "    </tr>\n",
       "    <tr>\n",
       "      <th>36</th>\n",
       "      <td>Oregon</td>\n",
       "      <td>Salem</td>\n",
       "      <td>OR</td>\n",
       "      <td>44.9490</td>\n",
       "      <td>-123.0040</td>\n",
       "    </tr>\n",
       "    <tr>\n",
       "      <th>37</th>\n",
       "      <td>Pennsylvania</td>\n",
       "      <td>Harrisburg</td>\n",
       "      <td>PA</td>\n",
       "      <td>40.2618</td>\n",
       "      <td>-76.8831</td>\n",
       "    </tr>\n",
       "    <tr>\n",
       "      <th>38</th>\n",
       "      <td>Rhode Island</td>\n",
       "      <td>Providence</td>\n",
       "      <td>RI</td>\n",
       "      <td>41.8228</td>\n",
       "      <td>-71.4145</td>\n",
       "    </tr>\n",
       "    <tr>\n",
       "      <th>39</th>\n",
       "      <td>South Carolina</td>\n",
       "      <td>Columbia</td>\n",
       "      <td>SC</td>\n",
       "      <td>33.9950</td>\n",
       "      <td>-81.0888</td>\n",
       "    </tr>\n",
       "    <tr>\n",
       "      <th>40</th>\n",
       "      <td>South Dakota</td>\n",
       "      <td>Pierre</td>\n",
       "      <td>SD</td>\n",
       "      <td>44.3695</td>\n",
       "      <td>-100.3211</td>\n",
       "    </tr>\n",
       "    <tr>\n",
       "      <th>41</th>\n",
       "      <td>Tennessee</td>\n",
       "      <td>Nashville</td>\n",
       "      <td>TN</td>\n",
       "      <td>36.1657</td>\n",
       "      <td>-86.7781</td>\n",
       "    </tr>\n",
       "    <tr>\n",
       "      <th>42</th>\n",
       "      <td>Texas</td>\n",
       "      <td>Austin</td>\n",
       "      <td>TX</td>\n",
       "      <td>30.3264</td>\n",
       "      <td>-97.7713</td>\n",
       "    </tr>\n",
       "    <tr>\n",
       "      <th>43</th>\n",
       "      <td>Utah</td>\n",
       "      <td>Salt Lake City</td>\n",
       "      <td>UT</td>\n",
       "      <td>40.7559</td>\n",
       "      <td>-111.8967</td>\n",
       "    </tr>\n",
       "    <tr>\n",
       "      <th>44</th>\n",
       "      <td>Vermont</td>\n",
       "      <td>Montpelier</td>\n",
       "      <td>VT</td>\n",
       "      <td>44.1991</td>\n",
       "      <td>-72.5596</td>\n",
       "    </tr>\n",
       "    <tr>\n",
       "      <th>45</th>\n",
       "      <td>Virginia</td>\n",
       "      <td>Richmond</td>\n",
       "      <td>VA</td>\n",
       "      <td>37.5242</td>\n",
       "      <td>-77.4932</td>\n",
       "    </tr>\n",
       "    <tr>\n",
       "      <th>46</th>\n",
       "      <td>Washington</td>\n",
       "      <td>Olympia</td>\n",
       "      <td>WA</td>\n",
       "      <td>47.0129</td>\n",
       "      <td>-122.8763</td>\n",
       "    </tr>\n",
       "    <tr>\n",
       "      <th>47</th>\n",
       "      <td>West Virginia</td>\n",
       "      <td>Charleston</td>\n",
       "      <td>WV</td>\n",
       "      <td>38.3490</td>\n",
       "      <td>-81.6306</td>\n",
       "    </tr>\n",
       "    <tr>\n",
       "      <th>48</th>\n",
       "      <td>Wisconsin</td>\n",
       "      <td>Madison</td>\n",
       "      <td>WI</td>\n",
       "      <td>43.0696</td>\n",
       "      <td>-89.4239</td>\n",
       "    </tr>\n",
       "    <tr>\n",
       "      <th>49</th>\n",
       "      <td>Wyoming</td>\n",
       "      <td>Cheyenne</td>\n",
       "      <td>WY</td>\n",
       "      <td>41.1437</td>\n",
       "      <td>-104.7962</td>\n",
       "    </tr>\n",
       "  </tbody>\n",
       "</table>\n",
       "</div>"
      ],
      "text/plain": [
       "             state         capital abbrev      lat       lon\n",
       "0          Alabama      Montgomery     AL  32.3570  -86.2578\n",
       "1           Alaska          Juneau     AK  58.3628 -134.5294\n",
       "2          Arizona         Phoenix     AZ  33.7040 -112.3518\n",
       "3         Arkansas     Little Rock     AR  34.9074  -92.1397\n",
       "4       California      Sacramento     CA  38.3805 -121.5554\n",
       "5         Colorado          Denver     CO  39.7263 -104.8568\n",
       "6      Connecticut        Hartford     CT  41.8468  -73.0104\n",
       "7         Delaware           Dover     DE  39.1564  -75.4955\n",
       "8          Florida     Tallahassee     FL  30.4286  -84.2593\n",
       "9          Georgia         Atlanta     GA  33.8444  -84.4740\n",
       "10          Hawaii        Honolulu     HI  24.8598 -168.0218\n",
       "11           Idaho           Boise     ID  43.6038 -116.2729\n",
       "12        Illinois     Springfield     IL  39.8000  -89.6495\n",
       "13         Indiana    Indianapolis     IN  39.7750  -86.1093\n",
       "14            Iowa      Des Moines     IA  41.5805  -93.7447\n",
       "15          Kansas          Topeka     KS  38.9881  -95.7807\n",
       "16        Kentucky       Frankfort     KY  38.2281  -84.8697\n",
       "17       Louisiana     Baton Rouge     LA  30.4492  -91.1856\n",
       "18           Maine         Augusta     ME  44.3232  -69.7665\n",
       "19        Maryland       Annapolis     MD  39.1332  -76.7988\n",
       "20   Massachusetts          Boston     MA  42.3706  -71.0270\n",
       "21        Michigan         Lansing     MI  42.7388  -84.4764\n",
       "22       Minnesota      Saint Paul     MN  44.8344  -92.9873\n",
       "23     Mississippi         Jackson     MS  32.3205  -90.2076\n",
       "24        Missouri  Jefferson City     MO  38.5462  -92.1525\n",
       "25         Montana          Helena     MT  46.6131 -112.0213\n",
       "26        Nebraska         Lincoln     NE  40.8651  -96.8231\n",
       "27          Nevada     Carson City     NV  39.1507 -119.7459\n",
       "28   New Hampshire         Concord     NH  43.2185  -71.5277\n",
       "29      New Jersey         Trenton     NJ  40.2805  -74.7120\n",
       "30      New Mexico        Santa Fe     NM  35.6975 -105.9821\n",
       "31        New York          Albany     NY  42.6149  -73.9708\n",
       "32  North Carolina         Raleigh     NC  35.7727  -78.6324\n",
       "33    North Dakota        Bismarck     ND  46.8234 -100.7748\n",
       "34            Ohio        Columbus     OH  40.0999  -83.0157\n",
       "35        Oklahoma   Oklahoma City     OK  35.3513  -97.4953\n",
       "36          Oregon           Salem     OR  44.9490 -123.0040\n",
       "37    Pennsylvania      Harrisburg     PA  40.2618  -76.8831\n",
       "38    Rhode Island      Providence     RI  41.8228  -71.4145\n",
       "39  South Carolina        Columbia     SC  33.9950  -81.0888\n",
       "40    South Dakota          Pierre     SD  44.3695 -100.3211\n",
       "41       Tennessee       Nashville     TN  36.1657  -86.7781\n",
       "42           Texas          Austin     TX  30.3264  -97.7713\n",
       "43            Utah  Salt Lake City     UT  40.7559 -111.8967\n",
       "44         Vermont      Montpelier     VT  44.1991  -72.5596\n",
       "45        Virginia        Richmond     VA  37.5242  -77.4932\n",
       "46      Washington         Olympia     WA  47.0129 -122.8763\n",
       "47   West Virginia      Charleston     WV  38.3490  -81.6306\n",
       "48       Wisconsin         Madison     WI  43.0696  -89.4239\n",
       "49         Wyoming        Cheyenne     WY  41.1437 -104.7962"
      ]
     },
     "execution_count": 91,
     "metadata": {},
     "output_type": "execute_result"
    }
   ],
   "source": [
    "capitals"
   ]
  },
  {
   "cell_type": "code",
   "execution_count": 87,
   "id": "6aaa5cb3-4862-490a-b181-2f49d1ae6285",
   "metadata": {},
   "outputs": [
    {
     "name": "stdout",
     "output_type": "stream",
     "text": [
      "https://api.zippopotam.us/us/AL/Montgomery\n",
      "https://api.zippopotam.us/us/AK/Juneau\n",
      "https://api.zippopotam.us/us/AZ/Phoenix\n",
      "https://api.zippopotam.us/us/AR/Little Rock\n",
      "https://api.zippopotam.us/us/CA/Sacramento\n",
      "https://api.zippopotam.us/us/CO/Denver\n",
      "https://api.zippopotam.us/us/CT/Hartford\n",
      "https://api.zippopotam.us/us/DE/Dover\n",
      "https://api.zippopotam.us/us/FL/Tallahassee\n",
      "https://api.zippopotam.us/us/GA/Atlanta\n",
      "https://api.zippopotam.us/us/HI/Honolulu\n",
      "https://api.zippopotam.us/us/ID/Boise\n",
      "https://api.zippopotam.us/us/IL/Springfield\n",
      "https://api.zippopotam.us/us/IN/Indianapolis\n",
      "https://api.zippopotam.us/us/IA/Des Moines\n",
      "https://api.zippopotam.us/us/KS/Topeka\n",
      "https://api.zippopotam.us/us/KY/Frankfort\n",
      "https://api.zippopotam.us/us/LA/Baton Rouge\n",
      "https://api.zippopotam.us/us/ME/Augusta\n",
      "https://api.zippopotam.us/us/MD/Annapolis\n",
      "https://api.zippopotam.us/us/MA/Boston\n",
      "https://api.zippopotam.us/us/MI/Lansing\n",
      "https://api.zippopotam.us/us/MN/Saint Paul\n",
      "https://api.zippopotam.us/us/MS/Jackson\n",
      "https://api.zippopotam.us/us/MO/Jefferson City\n",
      "https://api.zippopotam.us/us/MT/Helena\n",
      "https://api.zippopotam.us/us/NE/Lincoln\n",
      "https://api.zippopotam.us/us/NV/Carson City\n",
      "https://api.zippopotam.us/us/NH/Concord\n",
      "https://api.zippopotam.us/us/NJ/Trenton\n",
      "https://api.zippopotam.us/us/NM/Santa Fe\n",
      "https://api.zippopotam.us/us/NY/Albany\n",
      "https://api.zippopotam.us/us/NC/Raleigh\n",
      "https://api.zippopotam.us/us/ND/Bismarck\n",
      "https://api.zippopotam.us/us/OH/Columbus\n",
      "https://api.zippopotam.us/us/OK/Oklahoma City\n",
      "https://api.zippopotam.us/us/OR/Salem\n",
      "https://api.zippopotam.us/us/PA/Harrisburg\n",
      "https://api.zippopotam.us/us/RI/Providence\n",
      "https://api.zippopotam.us/us/SC/Columbia\n",
      "https://api.zippopotam.us/us/SD/Pierre\n",
      "https://api.zippopotam.us/us/TN/Nashville\n",
      "https://api.zippopotam.us/us/TX/Austin\n",
      "https://api.zippopotam.us/us/UT/Salt Lake City\n",
      "https://api.zippopotam.us/us/VT/Montpelier\n",
      "https://api.zippopotam.us/us/VA/Richmond\n",
      "https://api.zippopotam.us/us/WA/Olympia\n",
      "https://api.zippopotam.us/us/WV/Charleston\n",
      "https://api.zippopotam.us/us/WI/Madison\n",
      "https://api.zippopotam.us/us/WY/Cheyenne\n"
     ]
    }
   ],
   "source": [
    "locales = []\n",
    "import json\n",
    "\n",
    "\n",
    "for i in range(len(capitals['state'])):\n",
    "    call = \"https://api.zippopotam.us/us/{0}/{1}\".format(capitals['abbrev'][i],capitals['capital'][i])\n",
    "    locales.append(requests.get(call).text)\n",
    "    print(call)\n",
    "locales = [json.loads(i) for i in locales]\n",
    "locales = pd.DataFrame(locales)\n"
   ]
  },
  {
   "cell_type": "code",
   "execution_count": 86,
   "id": "5bf7b26d-814d-4941-95f9-6a8d61a32a95",
   "metadata": {
    "scrolled": true
   },
   "outputs": [
    {
     "data": {
      "text/plain": [
       "{'place name': 'New Hartford',\n",
       " 'longitude': '-73.0104',\n",
       " 'post code': '06057',\n",
       " 'latitude': '41.8468'}"
      ]
     },
     "execution_count": 86,
     "metadata": {},
     "output_type": "execute_result"
    }
   ],
   "source": [
    "locales['places'][6][0]"
   ]
  },
  {
   "cell_type": "code",
   "execution_count": 62,
   "id": "f68dc8bd-e802-4560-8d0e-8295edf84b13",
   "metadata": {},
   "outputs": [
    {
     "data": {
      "text/plain": [
       "-86.2578"
      ]
     },
     "execution_count": 62,
     "metadata": {},
     "output_type": "execute_result"
    }
   ],
   "source": [
    "lon = float(locales['places'][0][0][\"longitude\"])"
   ]
  },
  {
   "cell_type": "code",
   "execution_count": 88,
   "id": "e7b9cdbf-fb72-41fe-9b9d-f47877d757d9",
   "metadata": {},
   "outputs": [],
   "source": [
    "# lat_lon_place = pd.DataFrame(columns=['capital', 'lat', 'lon'])\n",
    "# for i in range(len(capitals['state'])):\n",
    "#     lon = float(locales['places'][i][0][\"longitude\"])\n",
    "#     lat = float(locales['places'][i][0][\"latitude\"])\n",
    "#     place = locales['places'][i][0][\"place name\"]\n",
    "#     # # print(place)\n",
    "#     # lat_lon_place['capital']= place\n",
    "    # lat_lon_place['lat']= lat\n",
    "    # lat_lon_place['lon']= lon\n",
    "\n",
    "#     data_rows = pd.DataFrame({\n",
    "#             'capital': [place],\n",
    "#             'lat': [lat],\n",
    "#             'lon': [lon]\n",
    "#         })\n",
    "\n",
    "#     lat_lon_place = pd.concat([lat_lon_place, data_rows], ignore_index=True)\n",
    "\n",
    "# capitals_with_coords = pd.merge(capitals, lat_lon_place, on='capital', how='left')\n",
    "\n",
    "\n",
    "for i in range(len(capitals['state'])):\n",
    "    lon = float(locales['places'][i][0][\"longitude\"])\n",
    "    lat = float(locales['places'][i][0][\"latitude\"])\n",
    "    # place = locales['places'][i][0][\"place name\"]\n",
    "    capitals.loc[i, 'lat'] = lat\n",
    "    capitals.loc[i, 'lon'] = lon"
   ]
  },
  {
   "cell_type": "code",
   "execution_count": 84,
   "id": "d265a5e6-5272-4d09-b828-2efe78a71cf2",
   "metadata": {
    "scrolled": true
   },
   "outputs": [
    {
     "data": {
      "text/html": [
       "<div>\n",
       "<style scoped>\n",
       "    .dataframe tbody tr th:only-of-type {\n",
       "        vertical-align: middle;\n",
       "    }\n",
       "\n",
       "    .dataframe tbody tr th {\n",
       "        vertical-align: top;\n",
       "    }\n",
       "\n",
       "    .dataframe thead th {\n",
       "        text-align: right;\n",
       "    }\n",
       "</style>\n",
       "<table border=\"1\" class=\"dataframe\">\n",
       "  <thead>\n",
       "    <tr style=\"text-align: right;\">\n",
       "      <th></th>\n",
       "      <th>state</th>\n",
       "      <th>capital</th>\n",
       "      <th>abbrev</th>\n",
       "      <th>lat</th>\n",
       "      <th>lon</th>\n",
       "    </tr>\n",
       "  </thead>\n",
       "  <tbody>\n",
       "    <tr>\n",
       "      <th>0</th>\n",
       "      <td>Alabama</td>\n",
       "      <td>Montgomery</td>\n",
       "      <td>AL</td>\n",
       "      <td>32.3570</td>\n",
       "      <td>-86.2578</td>\n",
       "    </tr>\n",
       "    <tr>\n",
       "      <th>1</th>\n",
       "      <td>Alaska</td>\n",
       "      <td>Juneau</td>\n",
       "      <td>AK</td>\n",
       "      <td>58.3628</td>\n",
       "      <td>-134.5294</td>\n",
       "    </tr>\n",
       "    <tr>\n",
       "      <th>2</th>\n",
       "      <td>Arizona</td>\n",
       "      <td>Phoenix</td>\n",
       "      <td>AZ</td>\n",
       "      <td>33.7040</td>\n",
       "      <td>-112.3518</td>\n",
       "    </tr>\n",
       "    <tr>\n",
       "      <th>3</th>\n",
       "      <td>Arkansas</td>\n",
       "      <td>Little Rock</td>\n",
       "      <td>AR</td>\n",
       "      <td>NaN</td>\n",
       "      <td>NaN</td>\n",
       "    </tr>\n",
       "    <tr>\n",
       "      <th>4</th>\n",
       "      <td>California</td>\n",
       "      <td>Sacramento</td>\n",
       "      <td>CA</td>\n",
       "      <td>38.3805</td>\n",
       "      <td>-121.5554</td>\n",
       "    </tr>\n",
       "    <tr>\n",
       "      <th>5</th>\n",
       "      <td>Colorado</td>\n",
       "      <td>Denver</td>\n",
       "      <td>CO</td>\n",
       "      <td>39.7263</td>\n",
       "      <td>-104.8568</td>\n",
       "    </tr>\n",
       "    <tr>\n",
       "      <th>6</th>\n",
       "      <td>Connecticut</td>\n",
       "      <td>Hartford</td>\n",
       "      <td>CT</td>\n",
       "      <td>NaN</td>\n",
       "      <td>NaN</td>\n",
       "    </tr>\n",
       "    <tr>\n",
       "      <th>7</th>\n",
       "      <td>Delaware</td>\n",
       "      <td>Dover</td>\n",
       "      <td>DE</td>\n",
       "      <td>39.1564</td>\n",
       "      <td>-75.4955</td>\n",
       "    </tr>\n",
       "    <tr>\n",
       "      <th>8</th>\n",
       "      <td>Florida</td>\n",
       "      <td>Tallahassee</td>\n",
       "      <td>FL</td>\n",
       "      <td>30.4286</td>\n",
       "      <td>-84.2593</td>\n",
       "    </tr>\n",
       "    <tr>\n",
       "      <th>9</th>\n",
       "      <td>Georgia</td>\n",
       "      <td>Atlanta</td>\n",
       "      <td>GA</td>\n",
       "      <td>33.8444</td>\n",
       "      <td>-84.4740</td>\n",
       "    </tr>\n",
       "    <tr>\n",
       "      <th>10</th>\n",
       "      <td>Hawaii</td>\n",
       "      <td>Honolulu</td>\n",
       "      <td>HI</td>\n",
       "      <td>24.8598</td>\n",
       "      <td>-168.0218</td>\n",
       "    </tr>\n",
       "    <tr>\n",
       "      <th>11</th>\n",
       "      <td>Idaho</td>\n",
       "      <td>Boise</td>\n",
       "      <td>ID</td>\n",
       "      <td>43.6038</td>\n",
       "      <td>-116.2729</td>\n",
       "    </tr>\n",
       "    <tr>\n",
       "      <th>12</th>\n",
       "      <td>Illinois</td>\n",
       "      <td>Springfield</td>\n",
       "      <td>IL</td>\n",
       "      <td>39.8000</td>\n",
       "      <td>-89.6495</td>\n",
       "    </tr>\n",
       "    <tr>\n",
       "      <th>13</th>\n",
       "      <td>Indiana</td>\n",
       "      <td>Indianapolis</td>\n",
       "      <td>IN</td>\n",
       "      <td>39.7750</td>\n",
       "      <td>-86.1093</td>\n",
       "    </tr>\n",
       "    <tr>\n",
       "      <th>14</th>\n",
       "      <td>Iowa</td>\n",
       "      <td>Des Moines</td>\n",
       "      <td>IA</td>\n",
       "      <td>NaN</td>\n",
       "      <td>NaN</td>\n",
       "    </tr>\n",
       "    <tr>\n",
       "      <th>15</th>\n",
       "      <td>Kansas</td>\n",
       "      <td>Topeka</td>\n",
       "      <td>KS</td>\n",
       "      <td>38.9881</td>\n",
       "      <td>-95.7807</td>\n",
       "    </tr>\n",
       "    <tr>\n",
       "      <th>16</th>\n",
       "      <td>Kentucky</td>\n",
       "      <td>Frankfort</td>\n",
       "      <td>KY</td>\n",
       "      <td>38.2281</td>\n",
       "      <td>-84.8697</td>\n",
       "    </tr>\n",
       "    <tr>\n",
       "      <th>17</th>\n",
       "      <td>Louisiana</td>\n",
       "      <td>Baton Rouge</td>\n",
       "      <td>LA</td>\n",
       "      <td>30.4492</td>\n",
       "      <td>-91.1856</td>\n",
       "    </tr>\n",
       "    <tr>\n",
       "      <th>18</th>\n",
       "      <td>Maine</td>\n",
       "      <td>Augusta</td>\n",
       "      <td>ME</td>\n",
       "      <td>44.3232</td>\n",
       "      <td>-69.7665</td>\n",
       "    </tr>\n",
       "    <tr>\n",
       "      <th>19</th>\n",
       "      <td>Maryland</td>\n",
       "      <td>Annapolis</td>\n",
       "      <td>MD</td>\n",
       "      <td>NaN</td>\n",
       "      <td>NaN</td>\n",
       "    </tr>\n",
       "    <tr>\n",
       "      <th>20</th>\n",
       "      <td>Massachusetts</td>\n",
       "      <td>Boston</td>\n",
       "      <td>MA</td>\n",
       "      <td>42.3706</td>\n",
       "      <td>-71.0270</td>\n",
       "    </tr>\n",
       "    <tr>\n",
       "      <th>21</th>\n",
       "      <td>Michigan</td>\n",
       "      <td>Lansing</td>\n",
       "      <td>MI</td>\n",
       "      <td>NaN</td>\n",
       "      <td>NaN</td>\n",
       "    </tr>\n",
       "    <tr>\n",
       "      <th>22</th>\n",
       "      <td>Minnesota</td>\n",
       "      <td>Saint Paul</td>\n",
       "      <td>MN</td>\n",
       "      <td>NaN</td>\n",
       "      <td>NaN</td>\n",
       "    </tr>\n",
       "    <tr>\n",
       "      <th>23</th>\n",
       "      <td>Mississippi</td>\n",
       "      <td>Jackson</td>\n",
       "      <td>MS</td>\n",
       "      <td>32.3205</td>\n",
       "      <td>-90.2076</td>\n",
       "    </tr>\n",
       "    <tr>\n",
       "      <th>24</th>\n",
       "      <td>Missouri</td>\n",
       "      <td>Jefferson City</td>\n",
       "      <td>MO</td>\n",
       "      <td>38.5462</td>\n",
       "      <td>-92.1525</td>\n",
       "    </tr>\n",
       "    <tr>\n",
       "      <th>25</th>\n",
       "      <td>Montana</td>\n",
       "      <td>Helena</td>\n",
       "      <td>MT</td>\n",
       "      <td>46.6131</td>\n",
       "      <td>-112.0213</td>\n",
       "    </tr>\n",
       "    <tr>\n",
       "      <th>26</th>\n",
       "      <td>Nebraska</td>\n",
       "      <td>Lincoln</td>\n",
       "      <td>NE</td>\n",
       "      <td>40.8651</td>\n",
       "      <td>-96.8231</td>\n",
       "    </tr>\n",
       "    <tr>\n",
       "      <th>27</th>\n",
       "      <td>Nevada</td>\n",
       "      <td>Carson City</td>\n",
       "      <td>NV</td>\n",
       "      <td>39.1507</td>\n",
       "      <td>-119.7459</td>\n",
       "    </tr>\n",
       "    <tr>\n",
       "      <th>28</th>\n",
       "      <td>New Hampshire</td>\n",
       "      <td>Concord</td>\n",
       "      <td>NH</td>\n",
       "      <td>43.2185</td>\n",
       "      <td>-71.5277</td>\n",
       "    </tr>\n",
       "    <tr>\n",
       "      <th>29</th>\n",
       "      <td>New Jersey</td>\n",
       "      <td>Trenton</td>\n",
       "      <td>NJ</td>\n",
       "      <td>40.2805</td>\n",
       "      <td>-74.7120</td>\n",
       "    </tr>\n",
       "    <tr>\n",
       "      <th>30</th>\n",
       "      <td>New Mexico</td>\n",
       "      <td>Santa Fe</td>\n",
       "      <td>NM</td>\n",
       "      <td>35.6975</td>\n",
       "      <td>-105.9821</td>\n",
       "    </tr>\n",
       "    <tr>\n",
       "      <th>31</th>\n",
       "      <td>New York</td>\n",
       "      <td>Albany</td>\n",
       "      <td>NY</td>\n",
       "      <td>42.6149</td>\n",
       "      <td>-73.9708</td>\n",
       "    </tr>\n",
       "    <tr>\n",
       "      <th>32</th>\n",
       "      <td>North Carolina</td>\n",
       "      <td>Raleigh</td>\n",
       "      <td>NC</td>\n",
       "      <td>35.7727</td>\n",
       "      <td>-78.6324</td>\n",
       "    </tr>\n",
       "    <tr>\n",
       "      <th>33</th>\n",
       "      <td>North Dakota</td>\n",
       "      <td>Bismarck</td>\n",
       "      <td>ND</td>\n",
       "      <td>46.8234</td>\n",
       "      <td>-100.7748</td>\n",
       "    </tr>\n",
       "    <tr>\n",
       "      <th>34</th>\n",
       "      <td>Ohio</td>\n",
       "      <td>Columbus</td>\n",
       "      <td>OH</td>\n",
       "      <td>40.0999</td>\n",
       "      <td>-83.0157</td>\n",
       "    </tr>\n",
       "    <tr>\n",
       "      <th>35</th>\n",
       "      <td>Oklahoma</td>\n",
       "      <td>Oklahoma City</td>\n",
       "      <td>OK</td>\n",
       "      <td>35.3513</td>\n",
       "      <td>-97.4953</td>\n",
       "    </tr>\n",
       "    <tr>\n",
       "      <th>36</th>\n",
       "      <td>Oregon</td>\n",
       "      <td>Salem</td>\n",
       "      <td>OR</td>\n",
       "      <td>44.9490</td>\n",
       "      <td>-123.0040</td>\n",
       "    </tr>\n",
       "    <tr>\n",
       "      <th>37</th>\n",
       "      <td>Pennsylvania</td>\n",
       "      <td>Harrisburg</td>\n",
       "      <td>PA</td>\n",
       "      <td>40.2618</td>\n",
       "      <td>-76.8831</td>\n",
       "    </tr>\n",
       "    <tr>\n",
       "      <th>38</th>\n",
       "      <td>Rhode Island</td>\n",
       "      <td>Providence</td>\n",
       "      <td>RI</td>\n",
       "      <td>41.8228</td>\n",
       "      <td>-71.4145</td>\n",
       "    </tr>\n",
       "    <tr>\n",
       "      <th>39</th>\n",
       "      <td>South Carolina</td>\n",
       "      <td>Columbia</td>\n",
       "      <td>SC</td>\n",
       "      <td>NaN</td>\n",
       "      <td>NaN</td>\n",
       "    </tr>\n",
       "    <tr>\n",
       "      <th>40</th>\n",
       "      <td>South Dakota</td>\n",
       "      <td>Pierre</td>\n",
       "      <td>SD</td>\n",
       "      <td>44.3695</td>\n",
       "      <td>-100.3211</td>\n",
       "    </tr>\n",
       "    <tr>\n",
       "      <th>41</th>\n",
       "      <td>Tennessee</td>\n",
       "      <td>Nashville</td>\n",
       "      <td>TN</td>\n",
       "      <td>36.1657</td>\n",
       "      <td>-86.7781</td>\n",
       "    </tr>\n",
       "    <tr>\n",
       "      <th>42</th>\n",
       "      <td>Texas</td>\n",
       "      <td>Austin</td>\n",
       "      <td>TX</td>\n",
       "      <td>30.3264</td>\n",
       "      <td>-97.7713</td>\n",
       "    </tr>\n",
       "    <tr>\n",
       "      <th>43</th>\n",
       "      <td>Utah</td>\n",
       "      <td>Salt Lake City</td>\n",
       "      <td>UT</td>\n",
       "      <td>40.7559</td>\n",
       "      <td>-111.8967</td>\n",
       "    </tr>\n",
       "    <tr>\n",
       "      <th>44</th>\n",
       "      <td>Vermont</td>\n",
       "      <td>Montpelier</td>\n",
       "      <td>VT</td>\n",
       "      <td>44.1991</td>\n",
       "      <td>-72.5596</td>\n",
       "    </tr>\n",
       "    <tr>\n",
       "      <th>45</th>\n",
       "      <td>Virginia</td>\n",
       "      <td>Richmond</td>\n",
       "      <td>VA</td>\n",
       "      <td>NaN</td>\n",
       "      <td>NaN</td>\n",
       "    </tr>\n",
       "    <tr>\n",
       "      <th>46</th>\n",
       "      <td>Washington</td>\n",
       "      <td>Olympia</td>\n",
       "      <td>WA</td>\n",
       "      <td>47.0129</td>\n",
       "      <td>-122.8763</td>\n",
       "    </tr>\n",
       "    <tr>\n",
       "      <th>47</th>\n",
       "      <td>West Virginia</td>\n",
       "      <td>Charleston</td>\n",
       "      <td>WV</td>\n",
       "      <td>38.3490</td>\n",
       "      <td>-81.6306</td>\n",
       "    </tr>\n",
       "    <tr>\n",
       "      <th>48</th>\n",
       "      <td>Wisconsin</td>\n",
       "      <td>Madison</td>\n",
       "      <td>WI</td>\n",
       "      <td>43.0696</td>\n",
       "      <td>-89.4239</td>\n",
       "    </tr>\n",
       "    <tr>\n",
       "      <th>49</th>\n",
       "      <td>Wyoming</td>\n",
       "      <td>Cheyenne</td>\n",
       "      <td>WY</td>\n",
       "      <td>41.1437</td>\n",
       "      <td>-104.7962</td>\n",
       "    </tr>\n",
       "  </tbody>\n",
       "</table>\n",
       "</div>"
      ],
      "text/plain": [
       "             state         capital abbrev      lat       lon\n",
       "0          Alabama      Montgomery     AL  32.3570  -86.2578\n",
       "1           Alaska          Juneau     AK  58.3628 -134.5294\n",
       "2          Arizona         Phoenix     AZ  33.7040 -112.3518\n",
       "3         Arkansas     Little Rock     AR      NaN       NaN\n",
       "4       California      Sacramento     CA  38.3805 -121.5554\n",
       "5         Colorado          Denver     CO  39.7263 -104.8568\n",
       "6      Connecticut        Hartford     CT      NaN       NaN\n",
       "7         Delaware           Dover     DE  39.1564  -75.4955\n",
       "8          Florida     Tallahassee     FL  30.4286  -84.2593\n",
       "9          Georgia         Atlanta     GA  33.8444  -84.4740\n",
       "10          Hawaii        Honolulu     HI  24.8598 -168.0218\n",
       "11           Idaho           Boise     ID  43.6038 -116.2729\n",
       "12        Illinois     Springfield     IL  39.8000  -89.6495\n",
       "13         Indiana    Indianapolis     IN  39.7750  -86.1093\n",
       "14            Iowa      Des Moines     IA      NaN       NaN\n",
       "15          Kansas          Topeka     KS  38.9881  -95.7807\n",
       "16        Kentucky       Frankfort     KY  38.2281  -84.8697\n",
       "17       Louisiana     Baton Rouge     LA  30.4492  -91.1856\n",
       "18           Maine         Augusta     ME  44.3232  -69.7665\n",
       "19        Maryland       Annapolis     MD      NaN       NaN\n",
       "20   Massachusetts          Boston     MA  42.3706  -71.0270\n",
       "21        Michigan         Lansing     MI      NaN       NaN\n",
       "22       Minnesota      Saint Paul     MN      NaN       NaN\n",
       "23     Mississippi         Jackson     MS  32.3205  -90.2076\n",
       "24        Missouri  Jefferson City     MO  38.5462  -92.1525\n",
       "25         Montana          Helena     MT  46.6131 -112.0213\n",
       "26        Nebraska         Lincoln     NE  40.8651  -96.8231\n",
       "27          Nevada     Carson City     NV  39.1507 -119.7459\n",
       "28   New Hampshire         Concord     NH  43.2185  -71.5277\n",
       "29      New Jersey         Trenton     NJ  40.2805  -74.7120\n",
       "30      New Mexico        Santa Fe     NM  35.6975 -105.9821\n",
       "31        New York          Albany     NY  42.6149  -73.9708\n",
       "32  North Carolina         Raleigh     NC  35.7727  -78.6324\n",
       "33    North Dakota        Bismarck     ND  46.8234 -100.7748\n",
       "34            Ohio        Columbus     OH  40.0999  -83.0157\n",
       "35        Oklahoma   Oklahoma City     OK  35.3513  -97.4953\n",
       "36          Oregon           Salem     OR  44.9490 -123.0040\n",
       "37    Pennsylvania      Harrisburg     PA  40.2618  -76.8831\n",
       "38    Rhode Island      Providence     RI  41.8228  -71.4145\n",
       "39  South Carolina        Columbia     SC      NaN       NaN\n",
       "40    South Dakota          Pierre     SD  44.3695 -100.3211\n",
       "41       Tennessee       Nashville     TN  36.1657  -86.7781\n",
       "42           Texas          Austin     TX  30.3264  -97.7713\n",
       "43            Utah  Salt Lake City     UT  40.7559 -111.8967\n",
       "44         Vermont      Montpelier     VT  44.1991  -72.5596\n",
       "45        Virginia        Richmond     VA      NaN       NaN\n",
       "46      Washington         Olympia     WA  47.0129 -122.8763\n",
       "47   West Virginia      Charleston     WV  38.3490  -81.6306\n",
       "48       Wisconsin         Madison     WI  43.0696  -89.4239\n",
       "49         Wyoming        Cheyenne     WY  41.1437 -104.7962"
      ]
     },
     "execution_count": 84,
     "metadata": {},
     "output_type": "execute_result"
    }
   ],
   "source": [
    "capitals_with_coords"
   ]
  },
  {
   "cell_type": "code",
   "execution_count": 85,
   "id": "e4d62572-4392-4ebd-8aa1-b7b6343e3510",
   "metadata": {},
   "outputs": [
    {
     "data": {
      "text/html": [
       "<div>\n",
       "<style scoped>\n",
       "    .dataframe tbody tr th:only-of-type {\n",
       "        vertical-align: middle;\n",
       "    }\n",
       "\n",
       "    .dataframe tbody tr th {\n",
       "        vertical-align: top;\n",
       "    }\n",
       "\n",
       "    .dataframe thead th {\n",
       "        text-align: right;\n",
       "    }\n",
       "</style>\n",
       "<table border=\"1\" class=\"dataframe\">\n",
       "  <thead>\n",
       "    <tr style=\"text-align: right;\">\n",
       "      <th></th>\n",
       "      <th>capital</th>\n",
       "      <th>lat</th>\n",
       "      <th>lon</th>\n",
       "    </tr>\n",
       "  </thead>\n",
       "  <tbody>\n",
       "    <tr>\n",
       "      <th>0</th>\n",
       "      <td>Montgomery</td>\n",
       "      <td>32.3570</td>\n",
       "      <td>-86.2578</td>\n",
       "    </tr>\n",
       "    <tr>\n",
       "      <th>1</th>\n",
       "      <td>Juneau</td>\n",
       "      <td>58.3628</td>\n",
       "      <td>-134.5294</td>\n",
       "    </tr>\n",
       "    <tr>\n",
       "      <th>2</th>\n",
       "      <td>Phoenix</td>\n",
       "      <td>33.7040</td>\n",
       "      <td>-112.3518</td>\n",
       "    </tr>\n",
       "    <tr>\n",
       "      <th>3</th>\n",
       "      <td>Little Rock Air Force Base</td>\n",
       "      <td>34.9074</td>\n",
       "      <td>-92.1397</td>\n",
       "    </tr>\n",
       "    <tr>\n",
       "      <th>4</th>\n",
       "      <td>Sacramento</td>\n",
       "      <td>38.3805</td>\n",
       "      <td>-121.5554</td>\n",
       "    </tr>\n",
       "    <tr>\n",
       "      <th>5</th>\n",
       "      <td>Denver</td>\n",
       "      <td>39.7263</td>\n",
       "      <td>-104.8568</td>\n",
       "    </tr>\n",
       "    <tr>\n",
       "      <th>6</th>\n",
       "      <td>New Hartford</td>\n",
       "      <td>41.8468</td>\n",
       "      <td>-73.0104</td>\n",
       "    </tr>\n",
       "    <tr>\n",
       "      <th>7</th>\n",
       "      <td>Dover</td>\n",
       "      <td>39.1564</td>\n",
       "      <td>-75.4955</td>\n",
       "    </tr>\n",
       "    <tr>\n",
       "      <th>8</th>\n",
       "      <td>Tallahassee</td>\n",
       "      <td>30.4286</td>\n",
       "      <td>-84.2593</td>\n",
       "    </tr>\n",
       "    <tr>\n",
       "      <th>9</th>\n",
       "      <td>Atlanta</td>\n",
       "      <td>33.8444</td>\n",
       "      <td>-84.4740</td>\n",
       "    </tr>\n",
       "    <tr>\n",
       "      <th>10</th>\n",
       "      <td>Honolulu</td>\n",
       "      <td>24.8598</td>\n",
       "      <td>-168.0218</td>\n",
       "    </tr>\n",
       "    <tr>\n",
       "      <th>11</th>\n",
       "      <td>Boise</td>\n",
       "      <td>43.6038</td>\n",
       "      <td>-116.2729</td>\n",
       "    </tr>\n",
       "    <tr>\n",
       "      <th>12</th>\n",
       "      <td>Springfield</td>\n",
       "      <td>39.8000</td>\n",
       "      <td>-89.6495</td>\n",
       "    </tr>\n",
       "    <tr>\n",
       "      <th>13</th>\n",
       "      <td>Indianapolis</td>\n",
       "      <td>39.7750</td>\n",
       "      <td>-86.1093</td>\n",
       "    </tr>\n",
       "    <tr>\n",
       "      <th>14</th>\n",
       "      <td>West Des Moines</td>\n",
       "      <td>41.5805</td>\n",
       "      <td>-93.7447</td>\n",
       "    </tr>\n",
       "    <tr>\n",
       "      <th>15</th>\n",
       "      <td>Topeka</td>\n",
       "      <td>38.9881</td>\n",
       "      <td>-95.7807</td>\n",
       "    </tr>\n",
       "    <tr>\n",
       "      <th>16</th>\n",
       "      <td>Frankfort</td>\n",
       "      <td>38.2281</td>\n",
       "      <td>-84.8697</td>\n",
       "    </tr>\n",
       "    <tr>\n",
       "      <th>17</th>\n",
       "      <td>Baton Rouge</td>\n",
       "      <td>30.4492</td>\n",
       "      <td>-91.1856</td>\n",
       "    </tr>\n",
       "    <tr>\n",
       "      <th>18</th>\n",
       "      <td>Augusta</td>\n",
       "      <td>44.3232</td>\n",
       "      <td>-69.7665</td>\n",
       "    </tr>\n",
       "    <tr>\n",
       "      <th>19</th>\n",
       "      <td>Annapolis Junction</td>\n",
       "      <td>39.1332</td>\n",
       "      <td>-76.7988</td>\n",
       "    </tr>\n",
       "    <tr>\n",
       "      <th>20</th>\n",
       "      <td>Boston</td>\n",
       "      <td>42.3706</td>\n",
       "      <td>-71.0270</td>\n",
       "    </tr>\n",
       "    <tr>\n",
       "      <th>21</th>\n",
       "      <td>East Lansing</td>\n",
       "      <td>42.7388</td>\n",
       "      <td>-84.4764</td>\n",
       "    </tr>\n",
       "    <tr>\n",
       "      <th>22</th>\n",
       "      <td>Saint Paul Park</td>\n",
       "      <td>44.8344</td>\n",
       "      <td>-92.9873</td>\n",
       "    </tr>\n",
       "    <tr>\n",
       "      <th>23</th>\n",
       "      <td>Jackson</td>\n",
       "      <td>32.3205</td>\n",
       "      <td>-90.2076</td>\n",
       "    </tr>\n",
       "    <tr>\n",
       "      <th>24</th>\n",
       "      <td>Jefferson City</td>\n",
       "      <td>38.5462</td>\n",
       "      <td>-92.1525</td>\n",
       "    </tr>\n",
       "    <tr>\n",
       "      <th>25</th>\n",
       "      <td>Helena</td>\n",
       "      <td>46.6131</td>\n",
       "      <td>-112.0213</td>\n",
       "    </tr>\n",
       "    <tr>\n",
       "      <th>26</th>\n",
       "      <td>Lincoln</td>\n",
       "      <td>40.8651</td>\n",
       "      <td>-96.8231</td>\n",
       "    </tr>\n",
       "    <tr>\n",
       "      <th>27</th>\n",
       "      <td>Carson City</td>\n",
       "      <td>39.1507</td>\n",
       "      <td>-119.7459</td>\n",
       "    </tr>\n",
       "    <tr>\n",
       "      <th>28</th>\n",
       "      <td>Concord</td>\n",
       "      <td>43.2185</td>\n",
       "      <td>-71.5277</td>\n",
       "    </tr>\n",
       "    <tr>\n",
       "      <th>29</th>\n",
       "      <td>Trenton</td>\n",
       "      <td>40.2805</td>\n",
       "      <td>-74.7120</td>\n",
       "    </tr>\n",
       "    <tr>\n",
       "      <th>30</th>\n",
       "      <td>Santa Fe</td>\n",
       "      <td>35.6975</td>\n",
       "      <td>-105.9821</td>\n",
       "    </tr>\n",
       "    <tr>\n",
       "      <th>31</th>\n",
       "      <td>Albany</td>\n",
       "      <td>42.6149</td>\n",
       "      <td>-73.9708</td>\n",
       "    </tr>\n",
       "    <tr>\n",
       "      <th>32</th>\n",
       "      <td>Raleigh</td>\n",
       "      <td>35.7727</td>\n",
       "      <td>-78.6324</td>\n",
       "    </tr>\n",
       "    <tr>\n",
       "      <th>33</th>\n",
       "      <td>Bismarck</td>\n",
       "      <td>46.8234</td>\n",
       "      <td>-100.7748</td>\n",
       "    </tr>\n",
       "    <tr>\n",
       "      <th>34</th>\n",
       "      <td>Columbus</td>\n",
       "      <td>40.0999</td>\n",
       "      <td>-83.0157</td>\n",
       "    </tr>\n",
       "    <tr>\n",
       "      <th>35</th>\n",
       "      <td>Oklahoma City</td>\n",
       "      <td>35.3513</td>\n",
       "      <td>-97.4953</td>\n",
       "    </tr>\n",
       "    <tr>\n",
       "      <th>36</th>\n",
       "      <td>Salem</td>\n",
       "      <td>44.9490</td>\n",
       "      <td>-123.0040</td>\n",
       "    </tr>\n",
       "    <tr>\n",
       "      <th>37</th>\n",
       "      <td>Harrisburg</td>\n",
       "      <td>40.2618</td>\n",
       "      <td>-76.8831</td>\n",
       "    </tr>\n",
       "    <tr>\n",
       "      <th>38</th>\n",
       "      <td>Providence</td>\n",
       "      <td>41.8228</td>\n",
       "      <td>-71.4145</td>\n",
       "    </tr>\n",
       "    <tr>\n",
       "      <th>39</th>\n",
       "      <td>West Columbia</td>\n",
       "      <td>33.9950</td>\n",
       "      <td>-81.0888</td>\n",
       "    </tr>\n",
       "    <tr>\n",
       "      <th>40</th>\n",
       "      <td>Pierre</td>\n",
       "      <td>44.3695</td>\n",
       "      <td>-100.3211</td>\n",
       "    </tr>\n",
       "    <tr>\n",
       "      <th>41</th>\n",
       "      <td>Nashville</td>\n",
       "      <td>36.1657</td>\n",
       "      <td>-86.7781</td>\n",
       "    </tr>\n",
       "    <tr>\n",
       "      <th>42</th>\n",
       "      <td>Austin</td>\n",
       "      <td>30.3264</td>\n",
       "      <td>-97.7713</td>\n",
       "    </tr>\n",
       "    <tr>\n",
       "      <th>43</th>\n",
       "      <td>Salt Lake City</td>\n",
       "      <td>40.7559</td>\n",
       "      <td>-111.8967</td>\n",
       "    </tr>\n",
       "    <tr>\n",
       "      <th>44</th>\n",
       "      <td>Montpelier</td>\n",
       "      <td>44.1991</td>\n",
       "      <td>-72.5596</td>\n",
       "    </tr>\n",
       "    <tr>\n",
       "      <th>45</th>\n",
       "      <td>University Of Richmond</td>\n",
       "      <td>37.5242</td>\n",
       "      <td>-77.4932</td>\n",
       "    </tr>\n",
       "    <tr>\n",
       "      <th>46</th>\n",
       "      <td>Olympia</td>\n",
       "      <td>47.0129</td>\n",
       "      <td>-122.8763</td>\n",
       "    </tr>\n",
       "    <tr>\n",
       "      <th>47</th>\n",
       "      <td>Charleston</td>\n",
       "      <td>38.3490</td>\n",
       "      <td>-81.6306</td>\n",
       "    </tr>\n",
       "    <tr>\n",
       "      <th>48</th>\n",
       "      <td>Madison</td>\n",
       "      <td>43.0696</td>\n",
       "      <td>-89.4239</td>\n",
       "    </tr>\n",
       "    <tr>\n",
       "      <th>49</th>\n",
       "      <td>Cheyenne</td>\n",
       "      <td>41.1437</td>\n",
       "      <td>-104.7962</td>\n",
       "    </tr>\n",
       "  </tbody>\n",
       "</table>\n",
       "</div>"
      ],
      "text/plain": [
       "                       capital      lat       lon\n",
       "0                   Montgomery  32.3570  -86.2578\n",
       "1                       Juneau  58.3628 -134.5294\n",
       "2                      Phoenix  33.7040 -112.3518\n",
       "3   Little Rock Air Force Base  34.9074  -92.1397\n",
       "4                   Sacramento  38.3805 -121.5554\n",
       "5                       Denver  39.7263 -104.8568\n",
       "6                 New Hartford  41.8468  -73.0104\n",
       "7                        Dover  39.1564  -75.4955\n",
       "8                  Tallahassee  30.4286  -84.2593\n",
       "9                      Atlanta  33.8444  -84.4740\n",
       "10                    Honolulu  24.8598 -168.0218\n",
       "11                       Boise  43.6038 -116.2729\n",
       "12                 Springfield  39.8000  -89.6495\n",
       "13                Indianapolis  39.7750  -86.1093\n",
       "14             West Des Moines  41.5805  -93.7447\n",
       "15                      Topeka  38.9881  -95.7807\n",
       "16                   Frankfort  38.2281  -84.8697\n",
       "17                 Baton Rouge  30.4492  -91.1856\n",
       "18                     Augusta  44.3232  -69.7665\n",
       "19          Annapolis Junction  39.1332  -76.7988\n",
       "20                      Boston  42.3706  -71.0270\n",
       "21                East Lansing  42.7388  -84.4764\n",
       "22             Saint Paul Park  44.8344  -92.9873\n",
       "23                     Jackson  32.3205  -90.2076\n",
       "24              Jefferson City  38.5462  -92.1525\n",
       "25                      Helena  46.6131 -112.0213\n",
       "26                     Lincoln  40.8651  -96.8231\n",
       "27                 Carson City  39.1507 -119.7459\n",
       "28                     Concord  43.2185  -71.5277\n",
       "29                     Trenton  40.2805  -74.7120\n",
       "30                    Santa Fe  35.6975 -105.9821\n",
       "31                      Albany  42.6149  -73.9708\n",
       "32                     Raleigh  35.7727  -78.6324\n",
       "33                    Bismarck  46.8234 -100.7748\n",
       "34                    Columbus  40.0999  -83.0157\n",
       "35               Oklahoma City  35.3513  -97.4953\n",
       "36                       Salem  44.9490 -123.0040\n",
       "37                  Harrisburg  40.2618  -76.8831\n",
       "38                  Providence  41.8228  -71.4145\n",
       "39               West Columbia  33.9950  -81.0888\n",
       "40                      Pierre  44.3695 -100.3211\n",
       "41                   Nashville  36.1657  -86.7781\n",
       "42                      Austin  30.3264  -97.7713\n",
       "43              Salt Lake City  40.7559 -111.8967\n",
       "44                  Montpelier  44.1991  -72.5596\n",
       "45      University Of Richmond  37.5242  -77.4932\n",
       "46                     Olympia  47.0129 -122.8763\n",
       "47                  Charleston  38.3490  -81.6306\n",
       "48                     Madison  43.0696  -89.4239\n",
       "49                    Cheyenne  41.1437 -104.7962"
      ]
     },
     "execution_count": 85,
     "metadata": {},
     "output_type": "execute_result"
    }
   ],
   "source": [
    "lat_lon_place"
   ]
  },
  {
   "cell_type": "code",
   "execution_count": 93,
   "id": "5b4d6f76-2370-4764-b4b4-7049e4c7d796",
   "metadata": {},
   "outputs": [
    {
     "data": {
      "application/vnd.plotly.v1+json": {
       "config": {
        "plotlyServerURL": "https://plot.ly"
       },
       "data": [
        {
         "customdata": [
          [
           "Alabama",
           "Montgomery"
          ],
          [
           "Alaska",
           "Juneau"
          ],
          [
           "Arizona",
           "Phoenix"
          ],
          [
           "Arkansas",
           "Little Rock"
          ],
          [
           "California",
           "Sacramento"
          ],
          [
           "Colorado",
           "Denver"
          ],
          [
           "Connecticut",
           "Hartford"
          ],
          [
           "Delaware",
           "Dover"
          ],
          [
           "Florida",
           "Tallahassee"
          ],
          [
           "Georgia",
           "Atlanta"
          ],
          [
           "Hawaii",
           "Honolulu"
          ],
          [
           "Idaho",
           "Boise"
          ],
          [
           "Illinois",
           "Springfield"
          ],
          [
           "Indiana",
           "Indianapolis"
          ],
          [
           "Iowa",
           "Des Moines"
          ],
          [
           "Kansas",
           "Topeka"
          ],
          [
           "Kentucky",
           "Frankfort"
          ],
          [
           "Louisiana",
           "Baton Rouge"
          ],
          [
           "Maine",
           "Augusta"
          ],
          [
           "Maryland",
           "Annapolis"
          ],
          [
           "Massachusetts",
           "Boston"
          ],
          [
           "Michigan",
           "Lansing"
          ],
          [
           "Minnesota",
           "Saint Paul"
          ],
          [
           "Mississippi",
           "Jackson"
          ],
          [
           "Missouri",
           "Jefferson City"
          ],
          [
           "Montana",
           "Helena"
          ],
          [
           "Nebraska",
           "Lincoln"
          ],
          [
           "Nevada",
           "Carson City"
          ],
          [
           "New Hampshire",
           "Concord"
          ],
          [
           "New Jersey",
           "Trenton"
          ],
          [
           "New Mexico",
           "Santa Fe"
          ],
          [
           "New York",
           "Albany"
          ],
          [
           "North Carolina",
           "Raleigh"
          ],
          [
           "North Dakota",
           "Bismarck"
          ],
          [
           "Ohio",
           "Columbus"
          ],
          [
           "Oklahoma",
           "Oklahoma City"
          ],
          [
           "Oregon",
           "Salem"
          ],
          [
           "Pennsylvania",
           "Harrisburg"
          ],
          [
           "Rhode Island",
           "Providence"
          ],
          [
           "South Carolina",
           "Columbia"
          ],
          [
           "South Dakota",
           "Pierre"
          ],
          [
           "Tennessee",
           "Nashville"
          ],
          [
           "Texas",
           "Austin"
          ],
          [
           "Utah",
           "Salt Lake City"
          ],
          [
           "Vermont",
           "Montpelier"
          ],
          [
           "Virginia",
           "Richmond"
          ],
          [
           "Washington",
           "Olympia"
          ],
          [
           "West Virginia",
           "Charleston"
          ],
          [
           "Wisconsin",
           "Madison"
          ],
          [
           "Wyoming",
           "Cheyenne"
          ]
         ],
         "geo": "geo",
         "hovertemplate": "lat=%{lat}<br>lon=%{lon}<br>state=%{customdata[0]}<br>capital=%{customdata[1]}<extra></extra>",
         "lat": [
          32.357,
          58.3628,
          33.704,
          34.9074,
          38.3805,
          39.7263,
          41.8468,
          39.1564,
          30.4286,
          33.8444,
          24.8598,
          43.6038,
          39.8,
          39.775,
          41.5805,
          38.9881,
          38.2281,
          30.4492,
          44.3232,
          39.1332,
          42.3706,
          42.7388,
          44.8344,
          32.3205,
          38.5462,
          46.6131,
          40.8651,
          39.1507,
          43.2185,
          40.2805,
          35.6975,
          42.6149,
          35.7727,
          46.8234,
          40.0999,
          35.3513,
          44.949,
          40.2618,
          41.8228,
          33.995,
          44.3695,
          36.1657,
          30.3264,
          40.7559,
          44.1991,
          37.5242,
          47.0129,
          38.349,
          43.0696,
          41.1437
         ],
         "legendgroup": "",
         "lon": [
          -86.2578,
          -134.5294,
          -112.3518,
          -92.1397,
          -121.5554,
          -104.8568,
          -73.0104,
          -75.4955,
          -84.2593,
          -84.474,
          -168.0218,
          -116.2729,
          -89.6495,
          -86.1093,
          -93.7447,
          -95.7807,
          -84.8697,
          -91.1856,
          -69.7665,
          -76.7988,
          -71.027,
          -84.4764,
          -92.9873,
          -90.2076,
          -92.1525,
          -112.0213,
          -96.8231,
          -119.7459,
          -71.5277,
          -74.712,
          -105.9821,
          -73.9708,
          -78.6324,
          -100.7748,
          -83.0157,
          -97.4953,
          -123.004,
          -76.8831,
          -71.4145,
          -81.0888,
          -100.3211,
          -86.7781,
          -97.7713,
          -111.8967,
          -72.5596,
          -77.4932,
          -122.8763,
          -81.6306,
          -89.4239,
          -104.7962
         ],
         "marker": {
          "color": "#636efa",
          "symbol": "circle"
         },
         "mode": "markers",
         "name": "",
         "showlegend": false,
         "type": "scattergeo"
        }
       ],
       "layout": {
        "geo": {
         "center": {},
         "domain": {
          "x": [
           0,
           1
          ],
          "y": [
           0,
           1
          ]
         },
         "scope": "usa"
        },
        "legend": {
         "tracegroupgap": 0
        },
        "margin": {
         "t": 60
        },
        "template": {
         "data": {
          "bar": [
           {
            "error_x": {
             "color": "#2a3f5f"
            },
            "error_y": {
             "color": "#2a3f5f"
            },
            "marker": {
             "line": {
              "color": "#E5ECF6",
              "width": 0.5
             },
             "pattern": {
              "fillmode": "overlay",
              "size": 10,
              "solidity": 0.2
             }
            },
            "type": "bar"
           }
          ],
          "barpolar": [
           {
            "marker": {
             "line": {
              "color": "#E5ECF6",
              "width": 0.5
             },
             "pattern": {
              "fillmode": "overlay",
              "size": 10,
              "solidity": 0.2
             }
            },
            "type": "barpolar"
           }
          ],
          "carpet": [
           {
            "aaxis": {
             "endlinecolor": "#2a3f5f",
             "gridcolor": "white",
             "linecolor": "white",
             "minorgridcolor": "white",
             "startlinecolor": "#2a3f5f"
            },
            "baxis": {
             "endlinecolor": "#2a3f5f",
             "gridcolor": "white",
             "linecolor": "white",
             "minorgridcolor": "white",
             "startlinecolor": "#2a3f5f"
            },
            "type": "carpet"
           }
          ],
          "choropleth": [
           {
            "colorbar": {
             "outlinewidth": 0,
             "ticks": ""
            },
            "type": "choropleth"
           }
          ],
          "contour": [
           {
            "colorbar": {
             "outlinewidth": 0,
             "ticks": ""
            },
            "colorscale": [
             [
              0,
              "#0d0887"
             ],
             [
              0.1111111111111111,
              "#46039f"
             ],
             [
              0.2222222222222222,
              "#7201a8"
             ],
             [
              0.3333333333333333,
              "#9c179e"
             ],
             [
              0.4444444444444444,
              "#bd3786"
             ],
             [
              0.5555555555555556,
              "#d8576b"
             ],
             [
              0.6666666666666666,
              "#ed7953"
             ],
             [
              0.7777777777777778,
              "#fb9f3a"
             ],
             [
              0.8888888888888888,
              "#fdca26"
             ],
             [
              1,
              "#f0f921"
             ]
            ],
            "type": "contour"
           }
          ],
          "contourcarpet": [
           {
            "colorbar": {
             "outlinewidth": 0,
             "ticks": ""
            },
            "type": "contourcarpet"
           }
          ],
          "heatmap": [
           {
            "colorbar": {
             "outlinewidth": 0,
             "ticks": ""
            },
            "colorscale": [
             [
              0,
              "#0d0887"
             ],
             [
              0.1111111111111111,
              "#46039f"
             ],
             [
              0.2222222222222222,
              "#7201a8"
             ],
             [
              0.3333333333333333,
              "#9c179e"
             ],
             [
              0.4444444444444444,
              "#bd3786"
             ],
             [
              0.5555555555555556,
              "#d8576b"
             ],
             [
              0.6666666666666666,
              "#ed7953"
             ],
             [
              0.7777777777777778,
              "#fb9f3a"
             ],
             [
              0.8888888888888888,
              "#fdca26"
             ],
             [
              1,
              "#f0f921"
             ]
            ],
            "type": "heatmap"
           }
          ],
          "heatmapgl": [
           {
            "colorbar": {
             "outlinewidth": 0,
             "ticks": ""
            },
            "colorscale": [
             [
              0,
              "#0d0887"
             ],
             [
              0.1111111111111111,
              "#46039f"
             ],
             [
              0.2222222222222222,
              "#7201a8"
             ],
             [
              0.3333333333333333,
              "#9c179e"
             ],
             [
              0.4444444444444444,
              "#bd3786"
             ],
             [
              0.5555555555555556,
              "#d8576b"
             ],
             [
              0.6666666666666666,
              "#ed7953"
             ],
             [
              0.7777777777777778,
              "#fb9f3a"
             ],
             [
              0.8888888888888888,
              "#fdca26"
             ],
             [
              1,
              "#f0f921"
             ]
            ],
            "type": "heatmapgl"
           }
          ],
          "histogram": [
           {
            "marker": {
             "pattern": {
              "fillmode": "overlay",
              "size": 10,
              "solidity": 0.2
             }
            },
            "type": "histogram"
           }
          ],
          "histogram2d": [
           {
            "colorbar": {
             "outlinewidth": 0,
             "ticks": ""
            },
            "colorscale": [
             [
              0,
              "#0d0887"
             ],
             [
              0.1111111111111111,
              "#46039f"
             ],
             [
              0.2222222222222222,
              "#7201a8"
             ],
             [
              0.3333333333333333,
              "#9c179e"
             ],
             [
              0.4444444444444444,
              "#bd3786"
             ],
             [
              0.5555555555555556,
              "#d8576b"
             ],
             [
              0.6666666666666666,
              "#ed7953"
             ],
             [
              0.7777777777777778,
              "#fb9f3a"
             ],
             [
              0.8888888888888888,
              "#fdca26"
             ],
             [
              1,
              "#f0f921"
             ]
            ],
            "type": "histogram2d"
           }
          ],
          "histogram2dcontour": [
           {
            "colorbar": {
             "outlinewidth": 0,
             "ticks": ""
            },
            "colorscale": [
             [
              0,
              "#0d0887"
             ],
             [
              0.1111111111111111,
              "#46039f"
             ],
             [
              0.2222222222222222,
              "#7201a8"
             ],
             [
              0.3333333333333333,
              "#9c179e"
             ],
             [
              0.4444444444444444,
              "#bd3786"
             ],
             [
              0.5555555555555556,
              "#d8576b"
             ],
             [
              0.6666666666666666,
              "#ed7953"
             ],
             [
              0.7777777777777778,
              "#fb9f3a"
             ],
             [
              0.8888888888888888,
              "#fdca26"
             ],
             [
              1,
              "#f0f921"
             ]
            ],
            "type": "histogram2dcontour"
           }
          ],
          "mesh3d": [
           {
            "colorbar": {
             "outlinewidth": 0,
             "ticks": ""
            },
            "type": "mesh3d"
           }
          ],
          "parcoords": [
           {
            "line": {
             "colorbar": {
              "outlinewidth": 0,
              "ticks": ""
             }
            },
            "type": "parcoords"
           }
          ],
          "pie": [
           {
            "automargin": true,
            "type": "pie"
           }
          ],
          "scatter": [
           {
            "fillpattern": {
             "fillmode": "overlay",
             "size": 10,
             "solidity": 0.2
            },
            "type": "scatter"
           }
          ],
          "scatter3d": [
           {
            "line": {
             "colorbar": {
              "outlinewidth": 0,
              "ticks": ""
             }
            },
            "marker": {
             "colorbar": {
              "outlinewidth": 0,
              "ticks": ""
             }
            },
            "type": "scatter3d"
           }
          ],
          "scattercarpet": [
           {
            "marker": {
             "colorbar": {
              "outlinewidth": 0,
              "ticks": ""
             }
            },
            "type": "scattercarpet"
           }
          ],
          "scattergeo": [
           {
            "marker": {
             "colorbar": {
              "outlinewidth": 0,
              "ticks": ""
             }
            },
            "type": "scattergeo"
           }
          ],
          "scattergl": [
           {
            "marker": {
             "colorbar": {
              "outlinewidth": 0,
              "ticks": ""
             }
            },
            "type": "scattergl"
           }
          ],
          "scattermapbox": [
           {
            "marker": {
             "colorbar": {
              "outlinewidth": 0,
              "ticks": ""
             }
            },
            "type": "scattermapbox"
           }
          ],
          "scatterpolar": [
           {
            "marker": {
             "colorbar": {
              "outlinewidth": 0,
              "ticks": ""
             }
            },
            "type": "scatterpolar"
           }
          ],
          "scatterpolargl": [
           {
            "marker": {
             "colorbar": {
              "outlinewidth": 0,
              "ticks": ""
             }
            },
            "type": "scatterpolargl"
           }
          ],
          "scatterternary": [
           {
            "marker": {
             "colorbar": {
              "outlinewidth": 0,
              "ticks": ""
             }
            },
            "type": "scatterternary"
           }
          ],
          "surface": [
           {
            "colorbar": {
             "outlinewidth": 0,
             "ticks": ""
            },
            "colorscale": [
             [
              0,
              "#0d0887"
             ],
             [
              0.1111111111111111,
              "#46039f"
             ],
             [
              0.2222222222222222,
              "#7201a8"
             ],
             [
              0.3333333333333333,
              "#9c179e"
             ],
             [
              0.4444444444444444,
              "#bd3786"
             ],
             [
              0.5555555555555556,
              "#d8576b"
             ],
             [
              0.6666666666666666,
              "#ed7953"
             ],
             [
              0.7777777777777778,
              "#fb9f3a"
             ],
             [
              0.8888888888888888,
              "#fdca26"
             ],
             [
              1,
              "#f0f921"
             ]
            ],
            "type": "surface"
           }
          ],
          "table": [
           {
            "cells": {
             "fill": {
              "color": "#EBF0F8"
             },
             "line": {
              "color": "white"
             }
            },
            "header": {
             "fill": {
              "color": "#C8D4E3"
             },
             "line": {
              "color": "white"
             }
            },
            "type": "table"
           }
          ]
         },
         "layout": {
          "annotationdefaults": {
           "arrowcolor": "#2a3f5f",
           "arrowhead": 0,
           "arrowwidth": 1
          },
          "autotypenumbers": "strict",
          "coloraxis": {
           "colorbar": {
            "outlinewidth": 0,
            "ticks": ""
           }
          },
          "colorscale": {
           "diverging": [
            [
             0,
             "#8e0152"
            ],
            [
             0.1,
             "#c51b7d"
            ],
            [
             0.2,
             "#de77ae"
            ],
            [
             0.3,
             "#f1b6da"
            ],
            [
             0.4,
             "#fde0ef"
            ],
            [
             0.5,
             "#f7f7f7"
            ],
            [
             0.6,
             "#e6f5d0"
            ],
            [
             0.7,
             "#b8e186"
            ],
            [
             0.8,
             "#7fbc41"
            ],
            [
             0.9,
             "#4d9221"
            ],
            [
             1,
             "#276419"
            ]
           ],
           "sequential": [
            [
             0,
             "#0d0887"
            ],
            [
             0.1111111111111111,
             "#46039f"
            ],
            [
             0.2222222222222222,
             "#7201a8"
            ],
            [
             0.3333333333333333,
             "#9c179e"
            ],
            [
             0.4444444444444444,
             "#bd3786"
            ],
            [
             0.5555555555555556,
             "#d8576b"
            ],
            [
             0.6666666666666666,
             "#ed7953"
            ],
            [
             0.7777777777777778,
             "#fb9f3a"
            ],
            [
             0.8888888888888888,
             "#fdca26"
            ],
            [
             1,
             "#f0f921"
            ]
           ],
           "sequentialminus": [
            [
             0,
             "#0d0887"
            ],
            [
             0.1111111111111111,
             "#46039f"
            ],
            [
             0.2222222222222222,
             "#7201a8"
            ],
            [
             0.3333333333333333,
             "#9c179e"
            ],
            [
             0.4444444444444444,
             "#bd3786"
            ],
            [
             0.5555555555555556,
             "#d8576b"
            ],
            [
             0.6666666666666666,
             "#ed7953"
            ],
            [
             0.7777777777777778,
             "#fb9f3a"
            ],
            [
             0.8888888888888888,
             "#fdca26"
            ],
            [
             1,
             "#f0f921"
            ]
           ]
          },
          "colorway": [
           "#636efa",
           "#EF553B",
           "#00cc96",
           "#ab63fa",
           "#FFA15A",
           "#19d3f3",
           "#FF6692",
           "#B6E880",
           "#FF97FF",
           "#FECB52"
          ],
          "font": {
           "color": "#2a3f5f"
          },
          "geo": {
           "bgcolor": "white",
           "lakecolor": "white",
           "landcolor": "#E5ECF6",
           "showlakes": true,
           "showland": true,
           "subunitcolor": "white"
          },
          "hoverlabel": {
           "align": "left"
          },
          "hovermode": "closest",
          "mapbox": {
           "style": "light"
          },
          "paper_bgcolor": "white",
          "plot_bgcolor": "#E5ECF6",
          "polar": {
           "angularaxis": {
            "gridcolor": "white",
            "linecolor": "white",
            "ticks": ""
           },
           "bgcolor": "#E5ECF6",
           "radialaxis": {
            "gridcolor": "white",
            "linecolor": "white",
            "ticks": ""
           }
          },
          "scene": {
           "xaxis": {
            "backgroundcolor": "#E5ECF6",
            "gridcolor": "white",
            "gridwidth": 2,
            "linecolor": "white",
            "showbackground": true,
            "ticks": "",
            "zerolinecolor": "white"
           },
           "yaxis": {
            "backgroundcolor": "#E5ECF6",
            "gridcolor": "white",
            "gridwidth": 2,
            "linecolor": "white",
            "showbackground": true,
            "ticks": "",
            "zerolinecolor": "white"
           },
           "zaxis": {
            "backgroundcolor": "#E5ECF6",
            "gridcolor": "white",
            "gridwidth": 2,
            "linecolor": "white",
            "showbackground": true,
            "ticks": "",
            "zerolinecolor": "white"
           }
          },
          "shapedefaults": {
           "line": {
            "color": "#2a3f5f"
           }
          },
          "ternary": {
           "aaxis": {
            "gridcolor": "white",
            "linecolor": "white",
            "ticks": ""
           },
           "baxis": {
            "gridcolor": "white",
            "linecolor": "white",
            "ticks": ""
           },
           "bgcolor": "#E5ECF6",
           "caxis": {
            "gridcolor": "white",
            "linecolor": "white",
            "ticks": ""
           }
          },
          "title": {
           "x": 0.05
          },
          "xaxis": {
           "automargin": true,
           "gridcolor": "white",
           "linecolor": "white",
           "ticks": "",
           "title": {
            "standoff": 15
           },
           "zerolinecolor": "white",
           "zerolinewidth": 2
          },
          "yaxis": {
           "automargin": true,
           "gridcolor": "white",
           "linecolor": "white",
           "ticks": "",
           "title": {
            "standoff": 15
           },
           "zerolinecolor": "white",
           "zerolinewidth": 2
          }
         }
        }
       }
      },
      "text/html": [
       "<div>                            <div id=\"e729074f-9651-4d7c-8f3b-54d73124f413\" class=\"plotly-graph-div\" style=\"height:525px; width:100%;\"></div>            <script type=\"text/javascript\">                require([\"plotly\"], function(Plotly) {                    window.PLOTLYENV=window.PLOTLYENV || {};                                    if (document.getElementById(\"e729074f-9651-4d7c-8f3b-54d73124f413\")) {                    Plotly.newPlot(                        \"e729074f-9651-4d7c-8f3b-54d73124f413\",                        [{\"customdata\":[[\"Alabama\",\"Montgomery\"],[\"Alaska\",\"Juneau\"],[\"Arizona\",\"Phoenix\"],[\"Arkansas\",\"Little Rock\"],[\"California\",\"Sacramento\"],[\"Colorado\",\"Denver\"],[\"Connecticut\",\"Hartford\"],[\"Delaware\",\"Dover\"],[\"Florida\",\"Tallahassee\"],[\"Georgia\",\"Atlanta\"],[\"Hawaii\",\"Honolulu\"],[\"Idaho\",\"Boise\"],[\"Illinois\",\"Springfield\"],[\"Indiana\",\"Indianapolis\"],[\"Iowa\",\"Des Moines\"],[\"Kansas\",\"Topeka\"],[\"Kentucky\",\"Frankfort\"],[\"Louisiana\",\"Baton Rouge\"],[\"Maine\",\"Augusta\"],[\"Maryland\",\"Annapolis\"],[\"Massachusetts\",\"Boston\"],[\"Michigan\",\"Lansing\"],[\"Minnesota\",\"Saint Paul\"],[\"Mississippi\",\"Jackson\"],[\"Missouri\",\"Jefferson City\"],[\"Montana\",\"Helena\"],[\"Nebraska\",\"Lincoln\"],[\"Nevada\",\"Carson City\"],[\"New Hampshire\",\"Concord\"],[\"New Jersey\",\"Trenton\"],[\"New Mexico\",\"Santa Fe\"],[\"New York\",\"Albany\"],[\"North Carolina\",\"Raleigh\"],[\"North Dakota\",\"Bismarck\"],[\"Ohio\",\"Columbus\"],[\"Oklahoma\",\"Oklahoma City\"],[\"Oregon\",\"Salem\"],[\"Pennsylvania\",\"Harrisburg\"],[\"Rhode Island\",\"Providence\"],[\"South Carolina\",\"Columbia\"],[\"South Dakota\",\"Pierre\"],[\"Tennessee\",\"Nashville\"],[\"Texas\",\"Austin\"],[\"Utah\",\"Salt Lake City\"],[\"Vermont\",\"Montpelier\"],[\"Virginia\",\"Richmond\"],[\"Washington\",\"Olympia\"],[\"West Virginia\",\"Charleston\"],[\"Wisconsin\",\"Madison\"],[\"Wyoming\",\"Cheyenne\"]],\"geo\":\"geo\",\"hovertemplate\":\"lat=%{lat}\\u003cbr\\u003elon=%{lon}\\u003cbr\\u003estate=%{customdata[0]}\\u003cbr\\u003ecapital=%{customdata[1]}\\u003cextra\\u003e\\u003c\\u002fextra\\u003e\",\"lat\":[32.357,58.3628,33.704,34.9074,38.3805,39.7263,41.8468,39.1564,30.4286,33.8444,24.8598,43.6038,39.8,39.775,41.5805,38.9881,38.2281,30.4492,44.3232,39.1332,42.3706,42.7388,44.8344,32.3205,38.5462,46.6131,40.8651,39.1507,43.2185,40.2805,35.6975,42.6149,35.7727,46.8234,40.0999,35.3513,44.949,40.2618,41.8228,33.995,44.3695,36.1657,30.3264,40.7559,44.1991,37.5242,47.0129,38.349,43.0696,41.1437],\"legendgroup\":\"\",\"lon\":[-86.2578,-134.5294,-112.3518,-92.1397,-121.5554,-104.8568,-73.0104,-75.4955,-84.2593,-84.474,-168.0218,-116.2729,-89.6495,-86.1093,-93.7447,-95.7807,-84.8697,-91.1856,-69.7665,-76.7988,-71.027,-84.4764,-92.9873,-90.2076,-92.1525,-112.0213,-96.8231,-119.7459,-71.5277,-74.712,-105.9821,-73.9708,-78.6324,-100.7748,-83.0157,-97.4953,-123.004,-76.8831,-71.4145,-81.0888,-100.3211,-86.7781,-97.7713,-111.8967,-72.5596,-77.4932,-122.8763,-81.6306,-89.4239,-104.7962],\"marker\":{\"color\":\"#636efa\",\"symbol\":\"circle\"},\"mode\":\"markers\",\"name\":\"\",\"showlegend\":false,\"type\":\"scattergeo\"}],                        {\"template\":{\"data\":{\"histogram2dcontour\":[{\"type\":\"histogram2dcontour\",\"colorbar\":{\"outlinewidth\":0,\"ticks\":\"\"},\"colorscale\":[[0.0,\"#0d0887\"],[0.1111111111111111,\"#46039f\"],[0.2222222222222222,\"#7201a8\"],[0.3333333333333333,\"#9c179e\"],[0.4444444444444444,\"#bd3786\"],[0.5555555555555556,\"#d8576b\"],[0.6666666666666666,\"#ed7953\"],[0.7777777777777778,\"#fb9f3a\"],[0.8888888888888888,\"#fdca26\"],[1.0,\"#f0f921\"]]}],\"choropleth\":[{\"type\":\"choropleth\",\"colorbar\":{\"outlinewidth\":0,\"ticks\":\"\"}}],\"histogram2d\":[{\"type\":\"histogram2d\",\"colorbar\":{\"outlinewidth\":0,\"ticks\":\"\"},\"colorscale\":[[0.0,\"#0d0887\"],[0.1111111111111111,\"#46039f\"],[0.2222222222222222,\"#7201a8\"],[0.3333333333333333,\"#9c179e\"],[0.4444444444444444,\"#bd3786\"],[0.5555555555555556,\"#d8576b\"],[0.6666666666666666,\"#ed7953\"],[0.7777777777777778,\"#fb9f3a\"],[0.8888888888888888,\"#fdca26\"],[1.0,\"#f0f921\"]]}],\"heatmap\":[{\"type\":\"heatmap\",\"colorbar\":{\"outlinewidth\":0,\"ticks\":\"\"},\"colorscale\":[[0.0,\"#0d0887\"],[0.1111111111111111,\"#46039f\"],[0.2222222222222222,\"#7201a8\"],[0.3333333333333333,\"#9c179e\"],[0.4444444444444444,\"#bd3786\"],[0.5555555555555556,\"#d8576b\"],[0.6666666666666666,\"#ed7953\"],[0.7777777777777778,\"#fb9f3a\"],[0.8888888888888888,\"#fdca26\"],[1.0,\"#f0f921\"]]}],\"heatmapgl\":[{\"type\":\"heatmapgl\",\"colorbar\":{\"outlinewidth\":0,\"ticks\":\"\"},\"colorscale\":[[0.0,\"#0d0887\"],[0.1111111111111111,\"#46039f\"],[0.2222222222222222,\"#7201a8\"],[0.3333333333333333,\"#9c179e\"],[0.4444444444444444,\"#bd3786\"],[0.5555555555555556,\"#d8576b\"],[0.6666666666666666,\"#ed7953\"],[0.7777777777777778,\"#fb9f3a\"],[0.8888888888888888,\"#fdca26\"],[1.0,\"#f0f921\"]]}],\"contourcarpet\":[{\"type\":\"contourcarpet\",\"colorbar\":{\"outlinewidth\":0,\"ticks\":\"\"}}],\"contour\":[{\"type\":\"contour\",\"colorbar\":{\"outlinewidth\":0,\"ticks\":\"\"},\"colorscale\":[[0.0,\"#0d0887\"],[0.1111111111111111,\"#46039f\"],[0.2222222222222222,\"#7201a8\"],[0.3333333333333333,\"#9c179e\"],[0.4444444444444444,\"#bd3786\"],[0.5555555555555556,\"#d8576b\"],[0.6666666666666666,\"#ed7953\"],[0.7777777777777778,\"#fb9f3a\"],[0.8888888888888888,\"#fdca26\"],[1.0,\"#f0f921\"]]}],\"surface\":[{\"type\":\"surface\",\"colorbar\":{\"outlinewidth\":0,\"ticks\":\"\"},\"colorscale\":[[0.0,\"#0d0887\"],[0.1111111111111111,\"#46039f\"],[0.2222222222222222,\"#7201a8\"],[0.3333333333333333,\"#9c179e\"],[0.4444444444444444,\"#bd3786\"],[0.5555555555555556,\"#d8576b\"],[0.6666666666666666,\"#ed7953\"],[0.7777777777777778,\"#fb9f3a\"],[0.8888888888888888,\"#fdca26\"],[1.0,\"#f0f921\"]]}],\"mesh3d\":[{\"type\":\"mesh3d\",\"colorbar\":{\"outlinewidth\":0,\"ticks\":\"\"}}],\"scatter\":[{\"fillpattern\":{\"fillmode\":\"overlay\",\"size\":10,\"solidity\":0.2},\"type\":\"scatter\"}],\"parcoords\":[{\"type\":\"parcoords\",\"line\":{\"colorbar\":{\"outlinewidth\":0,\"ticks\":\"\"}}}],\"scatterpolargl\":[{\"type\":\"scatterpolargl\",\"marker\":{\"colorbar\":{\"outlinewidth\":0,\"ticks\":\"\"}}}],\"bar\":[{\"error_x\":{\"color\":\"#2a3f5f\"},\"error_y\":{\"color\":\"#2a3f5f\"},\"marker\":{\"line\":{\"color\":\"#E5ECF6\",\"width\":0.5},\"pattern\":{\"fillmode\":\"overlay\",\"size\":10,\"solidity\":0.2}},\"type\":\"bar\"}],\"scattergeo\":[{\"type\":\"scattergeo\",\"marker\":{\"colorbar\":{\"outlinewidth\":0,\"ticks\":\"\"}}}],\"scatterpolar\":[{\"type\":\"scatterpolar\",\"marker\":{\"colorbar\":{\"outlinewidth\":0,\"ticks\":\"\"}}}],\"histogram\":[{\"marker\":{\"pattern\":{\"fillmode\":\"overlay\",\"size\":10,\"solidity\":0.2}},\"type\":\"histogram\"}],\"scattergl\":[{\"type\":\"scattergl\",\"marker\":{\"colorbar\":{\"outlinewidth\":0,\"ticks\":\"\"}}}],\"scatter3d\":[{\"type\":\"scatter3d\",\"line\":{\"colorbar\":{\"outlinewidth\":0,\"ticks\":\"\"}},\"marker\":{\"colorbar\":{\"outlinewidth\":0,\"ticks\":\"\"}}}],\"scattermapbox\":[{\"type\":\"scattermapbox\",\"marker\":{\"colorbar\":{\"outlinewidth\":0,\"ticks\":\"\"}}}],\"scatterternary\":[{\"type\":\"scatterternary\",\"marker\":{\"colorbar\":{\"outlinewidth\":0,\"ticks\":\"\"}}}],\"scattercarpet\":[{\"type\":\"scattercarpet\",\"marker\":{\"colorbar\":{\"outlinewidth\":0,\"ticks\":\"\"}}}],\"carpet\":[{\"aaxis\":{\"endlinecolor\":\"#2a3f5f\",\"gridcolor\":\"white\",\"linecolor\":\"white\",\"minorgridcolor\":\"white\",\"startlinecolor\":\"#2a3f5f\"},\"baxis\":{\"endlinecolor\":\"#2a3f5f\",\"gridcolor\":\"white\",\"linecolor\":\"white\",\"minorgridcolor\":\"white\",\"startlinecolor\":\"#2a3f5f\"},\"type\":\"carpet\"}],\"table\":[{\"cells\":{\"fill\":{\"color\":\"#EBF0F8\"},\"line\":{\"color\":\"white\"}},\"header\":{\"fill\":{\"color\":\"#C8D4E3\"},\"line\":{\"color\":\"white\"}},\"type\":\"table\"}],\"barpolar\":[{\"marker\":{\"line\":{\"color\":\"#E5ECF6\",\"width\":0.5},\"pattern\":{\"fillmode\":\"overlay\",\"size\":10,\"solidity\":0.2}},\"type\":\"barpolar\"}],\"pie\":[{\"automargin\":true,\"type\":\"pie\"}]},\"layout\":{\"autotypenumbers\":\"strict\",\"colorway\":[\"#636efa\",\"#EF553B\",\"#00cc96\",\"#ab63fa\",\"#FFA15A\",\"#19d3f3\",\"#FF6692\",\"#B6E880\",\"#FF97FF\",\"#FECB52\"],\"font\":{\"color\":\"#2a3f5f\"},\"hovermode\":\"closest\",\"hoverlabel\":{\"align\":\"left\"},\"paper_bgcolor\":\"white\",\"plot_bgcolor\":\"#E5ECF6\",\"polar\":{\"bgcolor\":\"#E5ECF6\",\"angularaxis\":{\"gridcolor\":\"white\",\"linecolor\":\"white\",\"ticks\":\"\"},\"radialaxis\":{\"gridcolor\":\"white\",\"linecolor\":\"white\",\"ticks\":\"\"}},\"ternary\":{\"bgcolor\":\"#E5ECF6\",\"aaxis\":{\"gridcolor\":\"white\",\"linecolor\":\"white\",\"ticks\":\"\"},\"baxis\":{\"gridcolor\":\"white\",\"linecolor\":\"white\",\"ticks\":\"\"},\"caxis\":{\"gridcolor\":\"white\",\"linecolor\":\"white\",\"ticks\":\"\"}},\"coloraxis\":{\"colorbar\":{\"outlinewidth\":0,\"ticks\":\"\"}},\"colorscale\":{\"sequential\":[[0.0,\"#0d0887\"],[0.1111111111111111,\"#46039f\"],[0.2222222222222222,\"#7201a8\"],[0.3333333333333333,\"#9c179e\"],[0.4444444444444444,\"#bd3786\"],[0.5555555555555556,\"#d8576b\"],[0.6666666666666666,\"#ed7953\"],[0.7777777777777778,\"#fb9f3a\"],[0.8888888888888888,\"#fdca26\"],[1.0,\"#f0f921\"]],\"sequentialminus\":[[0.0,\"#0d0887\"],[0.1111111111111111,\"#46039f\"],[0.2222222222222222,\"#7201a8\"],[0.3333333333333333,\"#9c179e\"],[0.4444444444444444,\"#bd3786\"],[0.5555555555555556,\"#d8576b\"],[0.6666666666666666,\"#ed7953\"],[0.7777777777777778,\"#fb9f3a\"],[0.8888888888888888,\"#fdca26\"],[1.0,\"#f0f921\"]],\"diverging\":[[0,\"#8e0152\"],[0.1,\"#c51b7d\"],[0.2,\"#de77ae\"],[0.3,\"#f1b6da\"],[0.4,\"#fde0ef\"],[0.5,\"#f7f7f7\"],[0.6,\"#e6f5d0\"],[0.7,\"#b8e186\"],[0.8,\"#7fbc41\"],[0.9,\"#4d9221\"],[1,\"#276419\"]]},\"xaxis\":{\"gridcolor\":\"white\",\"linecolor\":\"white\",\"ticks\":\"\",\"title\":{\"standoff\":15},\"zerolinecolor\":\"white\",\"automargin\":true,\"zerolinewidth\":2},\"yaxis\":{\"gridcolor\":\"white\",\"linecolor\":\"white\",\"ticks\":\"\",\"title\":{\"standoff\":15},\"zerolinecolor\":\"white\",\"automargin\":true,\"zerolinewidth\":2},\"scene\":{\"xaxis\":{\"backgroundcolor\":\"#E5ECF6\",\"gridcolor\":\"white\",\"linecolor\":\"white\",\"showbackground\":true,\"ticks\":\"\",\"zerolinecolor\":\"white\",\"gridwidth\":2},\"yaxis\":{\"backgroundcolor\":\"#E5ECF6\",\"gridcolor\":\"white\",\"linecolor\":\"white\",\"showbackground\":true,\"ticks\":\"\",\"zerolinecolor\":\"white\",\"gridwidth\":2},\"zaxis\":{\"backgroundcolor\":\"#E5ECF6\",\"gridcolor\":\"white\",\"linecolor\":\"white\",\"showbackground\":true,\"ticks\":\"\",\"zerolinecolor\":\"white\",\"gridwidth\":2}},\"shapedefaults\":{\"line\":{\"color\":\"#2a3f5f\"}},\"annotationdefaults\":{\"arrowcolor\":\"#2a3f5f\",\"arrowhead\":0,\"arrowwidth\":1},\"geo\":{\"bgcolor\":\"white\",\"landcolor\":\"#E5ECF6\",\"subunitcolor\":\"white\",\"showland\":true,\"showlakes\":true,\"lakecolor\":\"white\"},\"title\":{\"x\":0.05},\"mapbox\":{\"style\":\"light\"}}},\"geo\":{\"domain\":{\"x\":[0.0,1.0],\"y\":[0.0,1.0]},\"center\":{},\"scope\":\"usa\"},\"legend\":{\"tracegroupgap\":0},\"margin\":{\"t\":60}},                        {\"responsive\": true}                    ).then(function(){\n",
       "                            \n",
       "var gd = document.getElementById('e729074f-9651-4d7c-8f3b-54d73124f413');\n",
       "var x = new MutationObserver(function (mutations, observer) {{\n",
       "        var display = window.getComputedStyle(gd).display;\n",
       "        if (!display || display === 'none') {{\n",
       "            console.log([gd, 'removed!']);\n",
       "            Plotly.purge(gd);\n",
       "            observer.disconnect();\n",
       "        }}\n",
       "}});\n",
       "\n",
       "// Listen for the removal of the full notebook cells\n",
       "var notebookContainer = gd.closest('#notebook-container');\n",
       "if (notebookContainer) {{\n",
       "    x.observe(notebookContainer, {childList: true});\n",
       "}}\n",
       "\n",
       "// Listen for the clearing of the current output cell\n",
       "var outputEl = gd.closest('.output');\n",
       "if (outputEl) {{\n",
       "    x.observe(outputEl, {childList: true});\n",
       "}}\n",
       "\n",
       "                        })                };                });            </script>        </div>"
      ]
     },
     "metadata": {},
     "output_type": "display_data"
    }
   ],
   "source": [
    "fig"
   ]
  },
  {
   "cell_type": "code",
   "execution_count": null,
   "id": "b7aaddd5-cc33-4220-bc9d-f3ad06006333",
   "metadata": {},
   "outputs": [],
   "source": []
  }
 ],
 "metadata": {
  "kernelspec": {
   "display_name": "Python 3 (ipykernel)",
   "language": "python",
   "name": "python3"
  },
  "language_info": {
   "codemirror_mode": {
    "name": "ipython",
    "version": 3
   },
   "file_extension": ".py",
   "mimetype": "text/x-python",
   "name": "python",
   "nbconvert_exporter": "python",
   "pygments_lexer": "ipython3",
   "version": "3.8.19"
  }
 },
 "nbformat": 4,
 "nbformat_minor": 5
}
